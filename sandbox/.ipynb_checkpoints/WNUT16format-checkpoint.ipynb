{
 "cells": [
  {
   "cell_type": "code",
   "execution_count": 1,
   "metadata": {},
   "outputs": [],
   "source": [
    "import pandas as pd"
   ]
  },
  {
   "cell_type": "code",
   "execution_count": 20,
   "metadata": {},
   "outputs": [],
   "source": [
    "train = open('wnut16/train', 'r').readlines()\n",
    "test = open('wnut16/test', 'r').readlines()"
   ]
  },
  {
   "cell_type": "markdown",
   "metadata": {},
   "source": [
    "We want to extract the individual tweets and the corresponding labels."
   ]
  },
  {
   "cell_type": "code",
   "execution_count": 18,
   "metadata": {},
   "outputs": [],
   "source": [
    "def create_df(data):\n",
    "    tweets = []\n",
    "    labels = []\n",
    "    current_tweet = []\n",
    "    current_labels = []\n",
    "\n",
    "    for line in data:\n",
    "        line = line.strip()\n",
    "        if line != \"\":\n",
    "            token, label = line.split(\"\\t\")\n",
    "            current_tweet.append(token)\n",
    "            current_labels.append(label)\n",
    "        else:\n",
    "            if current_tweet:  \n",
    "                tweets.append(current_tweet)\n",
    "                labels.append(current_labels)\n",
    "            current_tweet = []\n",
    "            current_labels = []\n",
    "\n",
    "    df = pd.DataFrame({\"tweets_tok\": tweets, \"ner_BIO_full\": labels})\n",
    "    \n",
    "    return df"
   ]
  },
  {
   "cell_type": "code",
   "execution_count": 21,
   "metadata": {},
   "outputs": [],
   "source": [
    "data_train = create_df(train)\n",
    "data_test = create_df(test)"
   ]
  },
  {
   "cell_type": "code",
   "execution_count": 25,
   "metadata": {},
   "outputs": [],
   "source": [
    "def join_tokens(data):\n",
    "    \n",
    "    data['tweets_full_text'] = data['tweets_tok'].apply(lambda x: ' '.join(x))\n",
    "    data['ner_BIO_full_text'] = data['ner_BIO_full'].apply(lambda x: ' '.join(x))\n",
    "    \n",
    "    return data"
   ]
  },
  {
   "cell_type": "code",
   "execution_count": 27,
   "metadata": {},
   "outputs": [],
   "source": [
    "data_train = join_tokens(data_train)\n",
    "data_test = join_tokens(data_test)"
   ]
  },
  {
   "cell_type": "code",
   "execution_count": 30,
   "metadata": {},
   "outputs": [],
   "source": [
    "# export data\n",
    "data_train.to_csv('../data/WNUT16/data_train.csv')\n",
    "data_test.to_csv('../data/WNUT16/data_test.csv')"
   ]
  }
 ],
 "metadata": {
  "kernelspec": {
   "display_name": "Python 3",
   "language": "python",
   "name": "python3"
  },
  "language_info": {
   "codemirror_mode": {
    "name": "ipython",
    "version": 3
   },
   "file_extension": ".py",
   "mimetype": "text/x-python",
   "name": "python",
   "nbconvert_exporter": "python",
   "pygments_lexer": "ipython3",
   "version": "3.8.13"
  }
 },
 "nbformat": 4,
 "nbformat_minor": 4
}
