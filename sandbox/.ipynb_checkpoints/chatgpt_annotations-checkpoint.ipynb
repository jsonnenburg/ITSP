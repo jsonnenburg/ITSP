{
 "cells": [
  {
   "cell_type": "code",
   "execution_count": 1,
   "metadata": {},
   "outputs": [],
   "source": [
    "import os\n",
    "import getpass\n",
    "import json\n",
    "import openai\n",
    "from collections import defaultdict\n",
    "import numpy as np\n",
    "from rich.console import Console\n",
    "from rich.table import Table"
   ]
  },
  {
   "cell_type": "code",
   "execution_count": 2,
   "metadata": {},
   "outputs": [],
   "source": [
    "from datasets import load_dataset"
   ]
  },
  {
   "cell_type": "code",
   "execution_count": 4,
   "metadata": {},
   "outputs": [],
   "source": [
    "import pandas as pd"
   ]
  },
  {
   "cell_type": "code",
   "execution_count": 30,
   "metadata": {},
   "outputs": [],
   "source": [
    "import csv\n",
    "import re\n",
    "\n",
    "# train_text.txt - one sequence per line; words seperated by whitespace\n",
    "f_train = open('covidnews-ner/dataset/train/train_text.txt', 'r').readlines()\n",
    "\n",
    "# train_label_dist.txt - one sequence per line; labels seperated by whitespace\n",
    "f_labels = open('covidnews-ner/dataset/train/train_label_dist.txt', 'r').readlines()\n",
    "\n",
    "# types.txt - one entity type per line, lists all entities\n",
    "f_types = open('covidnews-ner/dataset/types.txt', 'r').readlines()"
   ]
  },
  {
   "cell_type": "code",
   "execution_count": 22,
   "metadata": {
    "scrolled": true
   },
   "outputs": [
    {
     "name": "stdout",
     "output_type": "stream",
     "text": [
      "Jakarta ( ANTARA ) - as many as 419 confirmed patients positive COVID-19 in COVID-19 Wisma athlete Kemayoran , Central Jakarta to date , still undergoing maintenance or hospitalization .\n",
      "\n",
      "B-location O O O O O O O B-person I-person I-person O B-disease O B-disease O O O O O B-location O O O O O O O O O\n",
      "\n"
     ]
    }
   ],
   "source": [
    "print(f_train[0])\n",
    "print(f_labels[0])"
   ]
  },
  {
   "cell_type": "markdown",
   "metadata": {},
   "source": [
    "We first want to transform the raw data into a dataframe containing:\n",
    "- the complete sentences\n",
    "- the tokenized sentences \n",
    "\n",
    "possibly also include:\n",
    "- the tokenized sentences\n",
    "- the tokenized labels\n",
    "\n",
    "for use in preprocessing/cleaning"
   ]
  },
  {
   "cell_type": "code",
   "execution_count": 26,
   "metadata": {},
   "outputs": [],
   "source": [
    "data_train = pd.DataFrame({\n",
    "    \"sentences\" : f_train,\n",
    "    \"labels\" : f_labels\n",
    "})"
   ]
  },
  {
   "cell_type": "code",
   "execution_count": 67,
   "metadata": {},
   "outputs": [],
   "source": [
    "os.environ['OPENAI_API_KEY'] = open('../../../../Desktop/openai_apikey.txt', 'r').readlines()[0]"
   ]
  },
  {
   "cell_type": "code",
   "execution_count": 68,
   "metadata": {},
   "outputs": [
    {
     "name": "stdout",
     "output_type": "stream",
     "text": [
      "['person\\n', 'location\\n', 'organization\\n', 'time\\n', 'disease\\n', 'virus\\n', 'product\\n', 'animal\\n', 'symptom\\n', 'bacterium\\n']\n"
     ]
    }
   ],
   "source": [
    "print(f_types)"
   ]
  },
  {
   "cell_type": "code",
   "execution_count": 69,
   "metadata": {},
   "outputs": [],
   "source": [
    "if \"OPENAI_API_KEY\" in os.environ:\n",
    "    OPENAI_API_KEY = os.environ[\"OPENAI_API_KEY\"]\n",
    "else:\n",
    "    OPENAI_API_KEY = getpass.getpass(\"Please enter your OpenAI API key: \")"
   ]
  },
  {
   "cell_type": "code",
   "execution_count": 70,
   "metadata": {},
   "outputs": [],
   "source": [
    "openai.api_key = OPENAI_API_KEY"
   ]
  },
  {
   "cell_type": "code",
   "execution_count": 73,
   "metadata": {},
   "outputs": [],
   "source": [
    "openai_query_params = {\"model\": \"gpt-3.5-turbo\", \"temperature\": 0, \"max_tokens\": 1024}\n",
    "\n",
    "def ask_openai(prompt: str, openai_query_params=openai_query_params) -> str:\n",
    "    response = openai.ChatCompletion.create(\n",
    "        #prompt=prompt,\n",
    "        messages=[{\"role\": \"user\", \"content\": prompt}\n",
    "              ],\n",
    "        **openai_query_params,\n",
    "    )\n",
    "    return response[\"choices\"][0][\"message\"][\"content\"]"
   ]
  },
  {
   "cell_type": "code",
   "execution_count": 74,
   "metadata": {},
   "outputs": [
    {
     "name": "stdout",
     "output_type": "stream",
     "text": [
      "Yes, I am here. How may I assist you?\n"
     ]
    }
   ],
   "source": [
    "print(ask_openai(\"Hello, are you here?\"))"
   ]
  },
  {
   "cell_type": "code",
   "execution_count": 80,
   "metadata": {},
   "outputs": [],
   "source": [
    "sentence = f_train[0].strip('\\n')"
   ]
  },
  {
   "cell_type": "code",
   "execution_count": 84,
   "metadata": {},
   "outputs": [],
   "source": [
    "ex_prompt = f\"\"\"\n",
    "In the sentence which I will state below between the tags <START SENTENCE> and <END SENTENCE>,\n",
    "annotate the following entities in BIO format,\n",
    "where any punctuation that is enclosed by whitespace on both sides is annotated with \"O\":\n",
    "- person\n",
    "- location\n",
    "- organization\n",
    "- time\n",
    "- disease\n",
    "- virus\n",
    "- product\n",
    "- animal\n",
    "- symptom\n",
    "- bacterium.\n",
    "Format the output in json with the following keys:\n",
    "- SENTENCE for the sentence I state below,\n",
    "where the formatting including all whitespace should be kept as is, i.e., not corrected\n",
    "- ANNOTATION for the generated annotation,\n",
    "where entity labels should look like \"B-location\" and the annotation consists simply of a single string \n",
    "where all entity labels are joined, separated by a single whitespace.\n",
    "Note that there have to be at least as many labels as there are tokens in the sentence,\n",
    "- TOKENS_SENTENCE the number of tokens (words and punctuation in the sentence that is annotated,\n",
    "- TOKENS_LABELS the number of tokens in the generated annotation saved in ANNOTATION.\n",
    " <START SENTENCE>{sentence}<END SENTENCE> Ensure that TOKENS_SENTENCE equals TOKENS_LABELS.\n",
    " \"\"\""
   ]
  },
  {
   "cell_type": "code",
   "execution_count": 85,
   "metadata": {},
   "outputs": [
    {
     "name": "stdout",
     "output_type": "stream",
     "text": [
      "{\n",
      "    \"SENTENCE\": \"Jakarta ( ANTARA ) - as many as 419 confirmed patients positive COVID-19 in COVID-19 Wisma athlete Kemayoran , Central Jakarta to date , still undergoing maintenance or hospitalization .\",\n",
      "    \"ANNOTATION\": \"B-location O O O O O O O O B-disease I-disease B-location I-location I-location O O O O O O O O O O O O O O O O O O O O O O O O O O O O O O O O O O O O O O O O O O O O O O O O O O O O O O O O O O O O O O O O O O O O O O O O O O O O O O O O O O O O O O O O O O O O O O O O O O O O O O O O O O O O O O O O O O O O O O O O O O O O O O O O O O O O O O O O O O O O O O O O O O O O O O O O O O O O O O O O O O O O O O O O O O O O O O O O O O O O O O O O O O O O O O O O O O O O O O O O O O O O O O O O O O O O O O O O O O O O O O O O O O O O O O O O O O O O O O O O O O O O O O O O O O O O O O O O O O O O O O O O O O O O O O O O O O O O O O O O O O O O O O O O O O O O O O O O O O O O O O O O O O O O O O O O O O O O O O O O O O O O O O O O O O O O O O O O O O O O O O O O O O O O O O O O O O O O O O O O O O O O O O O O O O O O O O O O O O O O O O O O O O O O O O O O O O O O O O O O O O O O O O O O O O O O O O O O O O O O O O O O O O O O O O O O O O O O O O O O O O O O O O O O O O O O O O O O O O O O O O O O O O O O O O O O O O O O O O O O O O O O O O O O O O O O O O O O O O O O O O O O O O O O O O O O O O O O O O O O O O O O O O O O O O O O O O O O O O O O O O O O O O O O O O O O O O O O O O O O O O O O O O O O O O O O O O O O O O O O O O O O O O O O O O O O O O O O O O O O O O O O O O O O O O O O O O O O O O O O O O O O O O O O O O O O O O O O O O O O O O O O O O O O O O O O O O O O O O O O O O O O O O O O O O O O O O O O O O O O O O O O O O O O O O O O O O O O O O O O O O O O O O O O O O O O O O O O O O O O O O O O O O O O O O O O O O O O O O O O O O O O O O O O O O O O O O O O O O O O O O O O O O O O O O O O O O O O O O O O O O O O O O O O O O O O O O O O O O O O O O O O O O O O O O O O O O O O O O O O O O O O O O O O O O O O O O O O O O O O O O O O O O O O O O O O O O O O O O O O O O O O O O O O O O O O O O O O O O O O O O O O O O O O O O O O O O O O O O O O O O O O O O O O O O O O O O O O O O O O O O O O O O O O O O O O O O O O O O O O O O O O O O O\n"
     ]
    }
   ],
   "source": [
    "print(ask_openai(ex_prompt))"
   ]
  },
  {
   "cell_type": "code",
   "execution_count": 94,
   "metadata": {},
   "outputs": [],
   "source": [
    "ex_prompt = f\"\"\"\n",
    "For the sentence which I will state below between the tags <START SENTENCE> and <END SENTENCE>,\n",
    "annotate the following entities in BIO format:\n",
    "- person\n",
    "- location\n",
    "- organization\n",
    "- time\n",
    "- disease\n",
    "- virus\n",
    "- product\n",
    "- animal\n",
    "- symptom\n",
    "- bacterium.\n",
    "Remember that there should be as many entity labels as there are words in the sentence.\n",
    "Format the output in json with the following keys:\n",
    "- SENTENCE for the sentence I state below,\n",
    "- ANNOTATION for the generated annotation,\n",
    "where entity labels should look like \"B-location\" and the annotation consists simply of a single string \n",
    "where all entity labels are joined, separated by a single whitespace.\n",
    " Sentence below: <START SENTENCE>{sentence}<END SENTENCE>\n",
    " \"\"\""
   ]
  },
  {
   "cell_type": "code",
   "execution_count": 95,
   "metadata": {},
   "outputs": [
    {
     "name": "stdout",
     "output_type": "stream",
     "text": [
      "{\n",
      "    \"SENTENCE\": \"Jakarta ( ANTARA ) - as many as 419 confirmed patients positive COVID-19 in COVID-19 Wisma athlete Kemayoran , Central Jakarta to date , still undergoing maintenance or hospitalization .\",\n",
      "    \"ANNOTATION\": \"B-location O O O O O O B-disease I-disease B-location I-location O O O O O O O O O O O O O O O O O O O O O O O O O O O O O O O O O O O O O O O O O O O O O O O O O O O O O O O O O O O O O O O O O O O O O O O O O O O O O O O O O O O O O O O O O O O O O O O O O O O O O O O O O O O O O O O O O O O O O O O O O O O O O O O O O O O O O O O O O O O O O O O O O O O O O O O O O O O O O O O O O O O O O O O O O O O O O O O O O O O O O O O O O O O O O O O O O O O O O O O O O O O O O O O O O O O O O O O O O O O O O O O O O O O O O O O O O O O O O O O O O O O O O O O O O O O O O O O O O O O O O O O O O O O O O O O O O O O O O O O O O O O O O O O O O O O O O O O O O O O O O O O O O O O O O O O O O O O O O O O O O O O O O O O O O O O O O O O O O O O O O O O O O O O O O O O O O O O O O O O O O O O O O O O O O O O O O O O O O O O O O O O O O O O O O O O O O O O O O O O O O O O O O O O O O O O O O O O O O O O O O O O O O O O O O O O O O O O O O O O O O O O O O O O O O O O O O O O O O O O O O O O O O O O O O O O O O O O O O O O O O O O O O O O O O O O O O O O O O O O O O O O O O O O O O O O O O O O O O O O O O O O O O O O O O O O O O O O O O O O O O O O O O O O O O O O O O O O O O O O O O O O O O O O O O O O O O O O O O O O O O O O O O O O O O O O O O O O O O O O O O O O O O O O O O O O O O O O O O O O O O O O O O O O O O O O O O O O O O O O O O O O O O O O O O O O O O O O O O O O O O O O O O O O O O O O O O O O O O O O O O O O O O O O O O O O O O O O O O O O O O O O O O O O O O O O O O O O O O O O O O O O O O O O O O O O O O O O O O O O O O O O O O O O O O O O O O O O O O O O O O O O O O O O O O O O O O O O O O O O O O O O O O O O O O O O O O O O O O O O O O O O O O O O O O O O O O O O O O O O O O O O O O O O O O O O O O O O O O O O O O O O O O O O O O O O O O O O O O O O O O O O O O O O O O O O O O O O O O O O O O O O O O O O O O O O O O O O O O O O O O O O O O O O O O O O O O O O O O O O O O O O O O O O O O O O O O O O O O O O O O O O O O O O O O O O\n"
     ]
    }
   ],
   "source": [
    "print(ask_openai(ex_prompt))"
   ]
  },
  {
   "cell_type": "code",
   "execution_count": 96,
   "metadata": {},
   "outputs": [
    {
     "data": {
      "text/plain": [
       "'Jakarta ( ANTARA ) - as many as 419 confirmed patients positive COVID-19 in COVID-19 Wisma athlete Kemayoran , Central Jakarta to date , still undergoing maintenance or hospitalization .'"
      ]
     },
     "execution_count": 96,
     "metadata": {},
     "output_type": "execute_result"
    }
   ],
   "source": [
    "sentence"
   ]
  },
  {
   "cell_type": "code",
   "execution_count": null,
   "metadata": {},
   "outputs": [],
   "source": []
  }
 ],
 "metadata": {
  "kernelspec": {
   "display_name": "Python 3",
   "language": "python",
   "name": "python3"
  },
  "language_info": {
   "codemirror_mode": {
    "name": "ipython",
    "version": 3
   },
   "file_extension": ".py",
   "mimetype": "text/x-python",
   "name": "python",
   "nbconvert_exporter": "python",
   "pygments_lexer": "ipython3",
   "version": "3.8.13"
  }
 },
 "nbformat": 4,
 "nbformat_minor": 4
}
