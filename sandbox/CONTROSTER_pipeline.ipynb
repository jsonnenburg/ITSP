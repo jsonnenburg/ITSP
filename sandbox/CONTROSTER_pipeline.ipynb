{
 "cells": [
  {
   "cell_type": "markdown",
   "metadata": {},
   "source": [
    "1. train RoSTER model on out-of-domain weak data\n",
    "    * train on weak labels generated onto Wikigold or OntoNotes datasets via knowledge bases --> full CONTROSTER: double backbone approach, i.e., train RoSTER first on either Wikigold dataset (13041 lines of training data, 3 overlapping entity categories with COVIDNews out of 4 total entity categories) or OntoNotes5.0 dataset (59924 lines of training data, 5 overlapping entity categories with COVIDNews out of 18 total entity categories) \n",
    "    * data from meng2021 (RoSTER)\n",
    "    * \"Even though the Wikigold dataset had only three overlapping entity categories with COVIDNEWS-NER and OntoNotes5.0, the performance still improved in part due to the overlapping categories being the prominent ones in COVIDNEWS-NER (eg. organisation, person, location, date)\" (ficek2022, p.5)\n",
    "    \n",
    "2. repeat RoSTER training on in-domain weak data\n",
    "\n",
    "3. fine-tune on strong data with only noise-robust loss\n"
   ]
  },
  {
   "cell_type": "markdown",
   "metadata": {},
   "source": [
    "### Step 1: Run RoSTER on Wikigold\n",
    "\n",
    "#### Step 1 in meng2021:\n",
    "```python \n",
    "export CUDA_DEVICE_ORDER=PCI_BUS_ID\n",
    "export CUDA_VISIBLE_DEVICES=0\n",
    "\n",
    "CORPUS=wikigold\n",
    "SEED=30\n",
    "TEMP_DIR=tmp_${CORPUS}_$SEED\n",
    "OUT_DIR=out_$CORPUS\n",
    "mkdir -p $TEMP_DIR\n",
    "mkdir -p $OUT_DIR\n",
    "\n",
    "python -u src/train.py --data_dir data/$CORPUS --output_dir $OUT_DIR --temp_dir $TEMP_DIR \\\n",
    "    --pretrained_model roberta-base --tag_scheme 'io' --max_seq_length 120 \\\n",
    "    --train_batch_size 32 --gradient_accumulation_steps 1 --eval_batch_size 64 \\\n",
    "    --noise_train_lr 3e-5 --ensemble_train_lr 1e-5 --self_train_lr 5e-7 \\\n",
    "    --noise_train_epochs 5 --ensemble_train_epochs 10 --self_train_epochs 5 \\\n",
    "    --noise_train_update_interval 60 --self_train_update_interval 100 \\\n",
    "    --dropout 0.1 --warmup_proportion=0.1 --seed $SEED \\\n",
    "    --q 0.7 --tau 0.7 --num_models 5 \\\n",
    "    --do_train --do_eval --eval_on \"test\" | tee $OUT_DIR/train_log.txt\n",
    "```"
   ]
  },
  {
   "cell_type": "markdown",
   "metadata": {},
   "source": [
    "#### Step 1 in ficek2022:\n",
    "```python\n",
    "sh = \"\"\"\n",
    "CORPUS=wiki_w1\n",
    "SEED=30\n",
    "TEMP_DIR=tmp_{CORPUS}_SEED\n",
    "OUT_DIR=out_TEMP_DIR\n",
    "mkdir -p OUT_DIR --temp_dir SEED \\\n",
    "    --q 0.7 --tau 0.7 --num_models 5 \\\n",
    "    --do_train --do_eval --eval_on \"test\" --save_model | tee $OUT_DIR/train_log.txt\n",
    "\"\"\"\n",
    "with open('script.sh', 'w') as file:\n",
    "    file.write(sh)\n",
    "!bash script.sh\n",
    "```"
   ]
  },
  {
   "cell_type": "markdown",
   "metadata": {},
   "source": [
    "### Step 2: Continue training on in-domain weak data\n",
    "\n",
    "\n",
    "```python\n",
    "sh = \"\"\"\n",
    "CORPUS=covidnews\n",
    "SEED=30\n",
    "TEMP_DIR=tmp_{CORPUS}_SEED\n",
    "OUT_DIR=out_TEMP_DIR\n",
    "mkdir -p CORPUS --output_dir TEMP_DIR \\\n",
    "    --pretrained_model roberta-base --tag_scheme 'io' --max_seq_length 150 \\\n",
    "    --train_batch_size 32 --gradient_accumulation_steps 2 --eval_batch_size 64 \\\n",
    "    --noise_train_lr 3e-5 --ensemble_train_lr 1e-5 --self_train_lr 5e-7 \\\n",
    "    --noise_train_epochs 50 --ensemble_train_epochs 10 --self_train_epochs 5 \\\n",
    "    --noise_train_update_interval 60 --self_train_update_interval 100 \\\n",
    "    --dropout 0.1 --warmup_proportion 0.1 --seed SEED \\ --num_models 1 --tau 0.0 --q 0.0 --backbone_dir_s1 out_wiki_w_bio_w_2000 --do_strong_tuning --do_strong_tuning_eval --eval_on \"test\" | tee OUT_DIR/train_log.txt \n",
    "\"\"\"\n",
    "with open('script.sh', 'w') as file:\n",
    "    file.write(sh)\n",
    "!bash script.sh\n",
    "```"
   ]
  }
 ],
 "metadata": {
  "kernelspec": {
   "display_name": "Python 3",
   "language": "python",
   "name": "python3"
  },
  "language_info": {
   "codemirror_mode": {
    "name": "ipython",
    "version": 3
   },
   "file_extension": ".py",
   "mimetype": "text/x-python",
   "name": "python",
   "nbconvert_exporter": "python",
   "pygments_lexer": "ipython3",
   "version": "3.8.13"
  }
 },
 "nbformat": 4,
 "nbformat_minor": 4
}
