{
 "cells": [
  {
   "cell_type": "code",
   "execution_count": 4,
   "metadata": {},
   "outputs": [],
   "source": [
    "import pandas as pd"
   ]
  },
  {
   "cell_type": "code",
   "execution_count": 2,
   "metadata": {},
   "outputs": [],
   "source": [
    "# load raw text\n",
    "train = open('wikigold/train_text.txt', 'r').readlines()\n",
    "valid = open('wikigold/valid_text.txt', 'r').readlines()\n",
    "test = open('wikigold/test_text.txt', 'r').readlines()\n",
    "\n",
    "# load BIO labels\n",
    "lab_train = open('wikigold/train_label_true.txt', 'r').readlines()\n",
    "lab_valid = open('wikigold/valid_label_true.txt', 'r').readlines()\n",
    "lab_test = open('wikigold/test_label_true.txt', 'r').readlines()"
   ]
  },
  {
   "cell_type": "markdown",
   "metadata": {},
   "source": [
    "We want to format the data such that, for each subset, we have a dataframe where each row corresponds to a sequence."
   ]
  },
  {
   "cell_type": "code",
   "execution_count": 5,
   "metadata": {},
   "outputs": [],
   "source": [
    "data_train = pd.DataFrame({\n",
    "    'sequences' : train,\n",
    "    'labels' : lab_train}\n",
    ")\n",
    "data_valid = pd.DataFrame({\n",
    "    'sequences' : valid,\n",
    "    'labels' : lab_valid}\n",
    ")\n",
    "data_test = pd.DataFrame({\n",
    "    'sequences' : test,\n",
    "    'labels' : lab_test}\n",
    ")"
   ]
  },
  {
   "cell_type": "code",
   "execution_count": 6,
   "metadata": {},
   "outputs": [
    {
     "data": {
      "text/html": [
       "<div>\n",
       "<style scoped>\n",
       "    .dataframe tbody tr th:only-of-type {\n",
       "        vertical-align: middle;\n",
       "    }\n",
       "\n",
       "    .dataframe tbody tr th {\n",
       "        vertical-align: top;\n",
       "    }\n",
       "\n",
       "    .dataframe thead th {\n",
       "        text-align: right;\n",
       "    }\n",
       "</style>\n",
       "<table border=\"1\" class=\"dataframe\">\n",
       "  <thead>\n",
       "    <tr style=\"text-align: right;\">\n",
       "      <th></th>\n",
       "      <th>sequences</th>\n",
       "      <th>labels</th>\n",
       "    </tr>\n",
       "  </thead>\n",
       "  <tbody>\n",
       "    <tr>\n",
       "      <th>0</th>\n",
       "      <td>010 is the tenth album from Japanese Punk Tech...</td>\n",
       "      <td>B-MISC O O O O O B-MISC O O O B-ORG I-ORG I-OR...</td>\n",
       "    </tr>\n",
       "    <tr>\n",
       "      <th>1</th>\n",
       "      <td>This album proved to be more commercial and mo...</td>\n",
       "      <td>O O O O O O O O O O O B-MISC O O O O O O B-MIS...</td>\n",
       "    </tr>\n",
       "    <tr>\n",
       "      <th>2</th>\n",
       "      <td>Founding member Kojima Minoru played guitar on...</td>\n",
       "      <td>O O B-PER I-PER O O O B-MISC I-MISC O O B-MISC...</td>\n",
       "    </tr>\n",
       "    <tr>\n",
       "      <th>3</th>\n",
       "      <td>XXX can of This had a different meaning , and ...</td>\n",
       "      <td>B-MISC I-MISC I-MISC I-MISC O O O O O O O O O ...</td>\n",
       "    </tr>\n",
       "    <tr>\n",
       "      <th>4</th>\n",
       "      <td>The 139th was formed at Camp Howe , near Pitts...</td>\n",
       "      <td>O B-ORG O O O B-LOC I-LOC O O B-LOC O O O O O ...</td>\n",
       "    </tr>\n",
       "  </tbody>\n",
       "</table>\n",
       "</div>"
      ],
      "text/plain": [
       "                                           sequences  \\\n",
       "0  010 is the tenth album from Japanese Punk Tech...   \n",
       "1  This album proved to be more commercial and mo...   \n",
       "2  Founding member Kojima Minoru played guitar on...   \n",
       "3  XXX can of This had a different meaning , and ...   \n",
       "4  The 139th was formed at Camp Howe , near Pitts...   \n",
       "\n",
       "                                              labels  \n",
       "0  B-MISC O O O O O B-MISC O O O B-ORG I-ORG I-OR...  \n",
       "1  O O O O O O O O O O O B-MISC O O O O O O B-MIS...  \n",
       "2  O O B-PER I-PER O O O B-MISC I-MISC O O B-MISC...  \n",
       "3  B-MISC I-MISC I-MISC I-MISC O O O O O O O O O ...  \n",
       "4  O B-ORG O O O B-LOC I-LOC O O B-LOC O O O O O ...  "
      ]
     },
     "execution_count": 6,
     "metadata": {},
     "output_type": "execute_result"
    }
   ],
   "source": [
    "data_train.head()"
   ]
  },
  {
   "cell_type": "markdown",
   "metadata": {},
   "source": [
    "#### Preprocessing\n",
    "* create column: sequence_tok, where sentence is split into tokens and turned into list\n",
    "* create column: ner_BIO_full, where labels are split into tokens and turned into list"
   ]
  },
  {
   "cell_type": "code",
   "execution_count": 23,
   "metadata": {},
   "outputs": [],
   "source": [
    "data_train['sequences'] = data_train['sequences'].apply(lambda x: x.strip('\\n'))\n",
    "data_valid['sequences'] = data_valid['sequences'].apply(lambda x: x.strip('\\n'))\n",
    "data_test['sequences'] = data_test['sequences'].apply(lambda x: x.strip('\\n'))\n",
    "data_rest['sequences'] = data_rest['sequences'].apply(lambda x: x.strip('\\n'))"
   ]
  },
  {
   "cell_type": "code",
   "execution_count": 29,
   "metadata": {},
   "outputs": [],
   "source": [
    "data_train['sequence_tok'] = data_train['sequences'].apply(lambda x: x.split())\n",
    "data_valid['sequence_tok'] = data_valid['sequences'].apply(lambda x: x.split())\n",
    "data_test['sequence_tok'] = data_test['sequences'].apply(lambda x: x.split())\n",
    "data_rest['sequence_tok'] = data_rest['sequences'].apply(lambda x: x.split())"
   ]
  },
  {
   "cell_type": "code",
   "execution_count": 32,
   "metadata": {},
   "outputs": [],
   "source": [
    "data_train['ner_BIO_full'] = data_train['labels'].apply(lambda x: x.split())\n",
    "data_valid['ner_BIO_full'] = data_valid['labels'].apply(lambda x: x.split())\n",
    "data_test['ner_BIO_full'] = data_test['labels'].apply(lambda x: x.split())"
   ]
  },
  {
   "cell_type": "code",
   "execution_count": 37,
   "metadata": {},
   "outputs": [
    {
     "data": {
      "text/html": [
       "<div>\n",
       "<style scoped>\n",
       "    .dataframe tbody tr th:only-of-type {\n",
       "        vertical-align: middle;\n",
       "    }\n",
       "\n",
       "    .dataframe tbody tr th {\n",
       "        vertical-align: top;\n",
       "    }\n",
       "\n",
       "    .dataframe thead th {\n",
       "        text-align: right;\n",
       "    }\n",
       "</style>\n",
       "<table border=\"1\" class=\"dataframe\">\n",
       "  <thead>\n",
       "    <tr style=\"text-align: right;\">\n",
       "      <th></th>\n",
       "      <th>sequences</th>\n",
       "      <th>labels</th>\n",
       "      <th>sequence_tok</th>\n",
       "      <th>ner_BIO_full</th>\n",
       "    </tr>\n",
       "  </thead>\n",
       "  <tbody>\n",
       "    <tr>\n",
       "      <th>0</th>\n",
       "      <td>Jakarta ( ANTARA ) - as many as 419 confirmed ...</td>\n",
       "      <td>B-location O B-organization O O O O O B-person...</td>\n",
       "      <td>[Jakarta, (, ANTARA, ), -, as, many, as, 419, ...</td>\n",
       "      <td>[B-location, O, B-organization, O, O, O, O, O,...</td>\n",
       "    </tr>\n",
       "    <tr>\n",
       "      <th>1</th>\n",
       "      <td>Australian Associated Press Qld lashes NSW gov...</td>\n",
       "      <td>B-organization I-organization I-organization O...</td>\n",
       "      <td>[Australian, Associated, Press, Qld, lashes, N...</td>\n",
       "      <td>[B-organization, I-organization, I-organizatio...</td>\n",
       "    </tr>\n",
       "    <tr>\n",
       "      <th>2</th>\n",
       "      <td>The city also closed its sights and asked all ...</td>\n",
       "      <td>O O O O O O O O O B-person O O O O O O O O O O...</td>\n",
       "      <td>[The, city, also, closed, its, sights, and, as...</td>\n",
       "      <td>[O, O, O, O, O, O, O, O, O, B-person, O, O, O,...</td>\n",
       "    </tr>\n",
       "    <tr>\n",
       "      <th>3</th>\n",
       "      <td>We suspect that the sudden rise in cases could...</td>\n",
       "      <td>O O O O O O O O O O O O O O O O O O O O O O B-...</td>\n",
       "      <td>[We, suspect, that, the, sudden, rise, in, cas...</td>\n",
       "      <td>[O, O, O, O, O, O, O, O, O, O, O, O, O, O, O, ...</td>\n",
       "    </tr>\n",
       "    <tr>\n",
       "      <th>4</th>\n",
       "      <td>Noel Lyn Smith covers the Navajo Nation for Th...</td>\n",
       "      <td>B-person I-person I-person O O B-organization ...</td>\n",
       "      <td>[Noel, Lyn, Smith, covers, the, Navajo, Nation...</td>\n",
       "      <td>[B-person, I-person, I-person, O, O, B-organiz...</td>\n",
       "    </tr>\n",
       "  </tbody>\n",
       "</table>\n",
       "</div>"
      ],
      "text/plain": [
       "                                           sequences  \\\n",
       "0  Jakarta ( ANTARA ) - as many as 419 confirmed ...   \n",
       "1  Australian Associated Press Qld lashes NSW gov...   \n",
       "2  The city also closed its sights and asked all ...   \n",
       "3  We suspect that the sudden rise in cases could...   \n",
       "4  Noel Lyn Smith covers the Navajo Nation for Th...   \n",
       "\n",
       "                                              labels  \\\n",
       "0  B-location O B-organization O O O O O B-person...   \n",
       "1  B-organization I-organization I-organization O...   \n",
       "2  O O O O O O O O O B-person O O O O O O O O O O...   \n",
       "3  O O O O O O O O O O O O O O O O O O O O O O B-...   \n",
       "4  B-person I-person I-person O O B-organization ...   \n",
       "\n",
       "                                        sequence_tok  \\\n",
       "0  [Jakarta, (, ANTARA, ), -, as, many, as, 419, ...   \n",
       "1  [Australian, Associated, Press, Qld, lashes, N...   \n",
       "2  [The, city, also, closed, its, sights, and, as...   \n",
       "3  [We, suspect, that, the, sudden, rise, in, cas...   \n",
       "4  [Noel, Lyn, Smith, covers, the, Navajo, Nation...   \n",
       "\n",
       "                                        ner_BIO_full  \n",
       "0  [B-location, O, B-organization, O, O, O, O, O,...  \n",
       "1  [B-organization, I-organization, I-organizatio...  \n",
       "2  [O, O, O, O, O, O, O, O, O, B-person, O, O, O,...  \n",
       "3  [O, O, O, O, O, O, O, O, O, O, O, O, O, O, O, ...  \n",
       "4  [B-person, I-person, I-person, O, O, B-organiz...  "
      ]
     },
     "execution_count": 37,
     "metadata": {},
     "output_type": "execute_result"
    }
   ],
   "source": [
    "data_train.head()"
   ]
  },
  {
   "cell_type": "code",
   "execution_count": 38,
   "metadata": {},
   "outputs": [],
   "source": [
    "# export data\n",
    "data_train.to_csv('../data/COVIDNEWS/data_train.csv')\n",
    "data_valid.to_csv('../data/COVIDNEWS/data_valid.csv')\n",
    "data_test.to_csv('../data/COVIDNEWS/data_test.csv')\n",
    "data_rest.to_csv('../data/COVIDNEWS/data_rest.csv')"
   ]
  }
 ],
 "metadata": {
  "kernelspec": {
   "display_name": "Python 3",
   "language": "python",
   "name": "python3"
  },
  "language_info": {
   "codemirror_mode": {
    "name": "ipython",
    "version": 3
   },
   "file_extension": ".py",
   "mimetype": "text/x-python",
   "name": "python",
   "nbconvert_exporter": "python",
   "pygments_lexer": "ipython3",
   "version": "3.8.13"
  }
 },
 "nbformat": 4,
 "nbformat_minor": 4
}
