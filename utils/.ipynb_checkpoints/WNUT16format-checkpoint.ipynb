{
 "cells": [
  {
   "cell_type": "code",
   "execution_count": 46,
   "metadata": {},
   "outputs": [],
   "source": [
    "import pandas as pd\n",
    "import os"
   ]
  },
  {
   "cell_type": "code",
   "execution_count": 47,
   "metadata": {},
   "outputs": [
    {
     "data": {
      "text/plain": [
       "'/Users/johann/Documents/Uni/ITSP/utils'"
      ]
     },
     "execution_count": 47,
     "metadata": {},
     "output_type": "execute_result"
    }
   ],
   "source": [
    "os.getcwd()"
   ]
  },
  {
   "cell_type": "code",
   "execution_count": 48,
   "metadata": {},
   "outputs": [],
   "source": [
    "train = open('../data/raw/wnut16/train', 'r').readlines()\n",
    "test = open('../data/raw/wnut16/test', 'r').readlines()"
   ]
  },
  {
   "cell_type": "markdown",
   "metadata": {},
   "source": [
    "We want to extract the individual tweets and the corresponding labels."
   ]
  },
  {
   "cell_type": "code",
   "execution_count": 49,
   "metadata": {},
   "outputs": [],
   "source": [
    "def create_df(data):\n",
    "    tweets = []\n",
    "    labels = []\n",
    "    current_tweet = []\n",
    "    current_labels = []\n",
    "\n",
    "    for line in data:\n",
    "        line = line.strip()\n",
    "        if line != \"\":\n",
    "            token, label = line.split(\"\\t\")\n",
    "            current_tweet.append(token)\n",
    "            current_labels.append(label)\n",
    "        else:\n",
    "            if current_tweet:  \n",
    "                tweets.append(current_tweet)\n",
    "                labels.append(current_labels)\n",
    "            current_tweet = []\n",
    "            current_labels = []\n",
    "\n",
    "    df = pd.DataFrame({\"sequence_tok\": tweets, \"labels_tok\": labels})\n",
    "    \n",
    "    return df"
   ]
  },
  {
   "cell_type": "code",
   "execution_count": 50,
   "metadata": {},
   "outputs": [],
   "source": [
    "data_train = create_df(train)\n",
    "data_test = create_df(test)"
   ]
  },
  {
   "cell_type": "code",
   "execution_count": 51,
   "metadata": {},
   "outputs": [],
   "source": [
    "def join_tokens(data):\n",
    "    \n",
    "    data['sequence'] = data['sequence_tok'].apply(lambda x: ' '.join(x))\n",
    "    data['labels'] = data['labels_tok'].apply(lambda x: ' '.join(x))\n",
    "    \n",
    "    return data"
   ]
  },
  {
   "cell_type": "code",
   "execution_count": 52,
   "metadata": {},
   "outputs": [],
   "source": [
    "data_train = join_tokens(data_train)\n",
    "data_test = join_tokens(data_test)"
   ]
  },
  {
   "cell_type": "code",
   "execution_count": 55,
   "metadata": {},
   "outputs": [
    {
     "data": {
      "text/plain": [
       "((2394, 4), (3850, 4))"
      ]
     },
     "execution_count": 55,
     "metadata": {},
     "output_type": "execute_result"
    }
   ],
   "source": [
    "data_train.shape, data_test.shape"
   ]
  },
  {
   "cell_type": "code",
   "execution_count": 56,
   "metadata": {},
   "outputs": [
    {
     "data": {
      "text/html": [
       "<div>\n",
       "<style scoped>\n",
       "    .dataframe tbody tr th:only-of-type {\n",
       "        vertical-align: middle;\n",
       "    }\n",
       "\n",
       "    .dataframe tbody tr th {\n",
       "        vertical-align: top;\n",
       "    }\n",
       "\n",
       "    .dataframe thead th {\n",
       "        text-align: right;\n",
       "    }\n",
       "</style>\n",
       "<table border=\"1\" class=\"dataframe\">\n",
       "  <thead>\n",
       "    <tr style=\"text-align: right;\">\n",
       "      <th></th>\n",
       "      <th>sequence_tok</th>\n",
       "      <th>labels_tok</th>\n",
       "      <th>sequence</th>\n",
       "      <th>labels</th>\n",
       "    </tr>\n",
       "  </thead>\n",
       "  <tbody>\n",
       "    <tr>\n",
       "      <th>0</th>\n",
       "      <td>[@SammieLynnsMom, @tg10781, they, will, be, al...</td>\n",
       "      <td>[O, O, O, O, O, O, O, O, O, O, O, O]</td>\n",
       "      <td>@SammieLynnsMom @tg10781 they will be all done...</td>\n",
       "      <td>O O O O O O O O O O O O</td>\n",
       "    </tr>\n",
       "    <tr>\n",
       "      <th>1</th>\n",
       "      <td>[Made, it, back, home, to, GA, ., It, sucks, n...</td>\n",
       "      <td>[O, O, O, O, O, B-geo-loc, O, O, O, O, O, O, O...</td>\n",
       "      <td>Made it back home to GA . It sucks not to be a...</td>\n",
       "      <td>O O O O O B-geo-loc O O O O O O O B-facility I...</td>\n",
       "    </tr>\n",
       "    <tr>\n",
       "      <th>2</th>\n",
       "      <td>[', Breaking, Dawn, ', Returns, to, Vancouver,...</td>\n",
       "      <td>[O, B-movie, I-movie, O, O, O, B-geo-loc, O, O...</td>\n",
       "      <td>' Breaking Dawn ' Returns to Vancouver on Janu...</td>\n",
       "      <td>O B-movie I-movie O O O B-geo-loc O O O O</td>\n",
       "    </tr>\n",
       "    <tr>\n",
       "      <th>3</th>\n",
       "      <td>[@ls_n, perhaps, ,, but, folks, may, find, som...</td>\n",
       "      <td>[O, O, O, O, O, O, O, O, O, O, O, O, O, O, O, ...</td>\n",
       "      <td>@ls_n perhaps , but folks may find something i...</td>\n",
       "      <td>O O O O O O O O O O O O O O O O O O O O O O O ...</td>\n",
       "    </tr>\n",
       "    <tr>\n",
       "      <th>4</th>\n",
       "      <td>[@Carr0t, aye, been, tonight, -, excellent]</td>\n",
       "      <td>[O, O, O, O, O, O]</td>\n",
       "      <td>@Carr0t aye been tonight - excellent</td>\n",
       "      <td>O O O O O O</td>\n",
       "    </tr>\n",
       "    <tr>\n",
       "      <th>...</th>\n",
       "      <td>...</td>\n",
       "      <td>...</td>\n",
       "      <td>...</td>\n",
       "      <td>...</td>\n",
       "    </tr>\n",
       "    <tr>\n",
       "      <th>2389</th>\n",
       "      <td>[RT, @MarioBB9, :, Pope, says, atheists, pick,...</td>\n",
       "      <td>[O, O, O, B-person, O, O, O, O, O, O, O, O, O,...</td>\n",
       "      <td>RT @MarioBB9 : Pope says atheists pick and cho...</td>\n",
       "      <td>O O O B-person O O O O O O O O O O O O O O O O...</td>\n",
       "    </tr>\n",
       "    <tr>\n",
       "      <th>2390</th>\n",
       "      <td>[Man, I, swear, I, bought, 2, new, outfits, bu...</td>\n",
       "      <td>[O, O, O, O, O, O, O, O, O, O, O, O, O, O, O, ...</td>\n",
       "      <td>Man I swear I bought 2 new outfits but it 's c...</td>\n",
       "      <td>O O O O O O O O O O O O O O O O O O O</td>\n",
       "    </tr>\n",
       "    <tr>\n",
       "      <th>2391</th>\n",
       "      <td>[RT, @ArtVanFurniture, :, Mr, ., Van, sure, is...</td>\n",
       "      <td>[O, O, O, B-person, I-person, I-person, O, O, ...</td>\n",
       "      <td>RT @ArtVanFurniture : Mr . Van sure is busy to...</td>\n",
       "      <td>O O O B-person I-person I-person O O O O O O O...</td>\n",
       "    </tr>\n",
       "    <tr>\n",
       "      <th>2392</th>\n",
       "      <td>[@PersonalSelena, can, you, follow, me, pretty...</td>\n",
       "      <td>[O, O, O, O, O, O, O, O, O, O, O, O, O, O, O, O]</td>\n",
       "      <td>@PersonalSelena can you follow me pretty pleas...</td>\n",
       "      <td>O O O O O O O O O O O O O O O O</td>\n",
       "    </tr>\n",
       "    <tr>\n",
       "      <th>2393</th>\n",
       "      <td>[good, friday, whatchu, got, for, me, @kanyewest]</td>\n",
       "      <td>[O, O, O, O, O, O, O]</td>\n",
       "      <td>good friday whatchu got for me @kanyewest</td>\n",
       "      <td>O O O O O O O</td>\n",
       "    </tr>\n",
       "  </tbody>\n",
       "</table>\n",
       "<p>2394 rows × 4 columns</p>\n",
       "</div>"
      ],
      "text/plain": [
       "                                           sequence_tok  \\\n",
       "0     [@SammieLynnsMom, @tg10781, they, will, be, al...   \n",
       "1     [Made, it, back, home, to, GA, ., It, sucks, n...   \n",
       "2     [', Breaking, Dawn, ', Returns, to, Vancouver,...   \n",
       "3     [@ls_n, perhaps, ,, but, folks, may, find, som...   \n",
       "4           [@Carr0t, aye, been, tonight, -, excellent]   \n",
       "...                                                 ...   \n",
       "2389  [RT, @MarioBB9, :, Pope, says, atheists, pick,...   \n",
       "2390  [Man, I, swear, I, bought, 2, new, outfits, bu...   \n",
       "2391  [RT, @ArtVanFurniture, :, Mr, ., Van, sure, is...   \n",
       "2392  [@PersonalSelena, can, you, follow, me, pretty...   \n",
       "2393  [good, friday, whatchu, got, for, me, @kanyewest]   \n",
       "\n",
       "                                             labels_tok  \\\n",
       "0                  [O, O, O, O, O, O, O, O, O, O, O, O]   \n",
       "1     [O, O, O, O, O, B-geo-loc, O, O, O, O, O, O, O...   \n",
       "2     [O, B-movie, I-movie, O, O, O, B-geo-loc, O, O...   \n",
       "3     [O, O, O, O, O, O, O, O, O, O, O, O, O, O, O, ...   \n",
       "4                                    [O, O, O, O, O, O]   \n",
       "...                                                 ...   \n",
       "2389  [O, O, O, B-person, O, O, O, O, O, O, O, O, O,...   \n",
       "2390  [O, O, O, O, O, O, O, O, O, O, O, O, O, O, O, ...   \n",
       "2391  [O, O, O, B-person, I-person, I-person, O, O, ...   \n",
       "2392   [O, O, O, O, O, O, O, O, O, O, O, O, O, O, O, O]   \n",
       "2393                              [O, O, O, O, O, O, O]   \n",
       "\n",
       "                                               sequence  \\\n",
       "0     @SammieLynnsMom @tg10781 they will be all done...   \n",
       "1     Made it back home to GA . It sucks not to be a...   \n",
       "2     ' Breaking Dawn ' Returns to Vancouver on Janu...   \n",
       "3     @ls_n perhaps , but folks may find something i...   \n",
       "4                  @Carr0t aye been tonight - excellent   \n",
       "...                                                 ...   \n",
       "2389  RT @MarioBB9 : Pope says atheists pick and cho...   \n",
       "2390  Man I swear I bought 2 new outfits but it 's c...   \n",
       "2391  RT @ArtVanFurniture : Mr . Van sure is busy to...   \n",
       "2392  @PersonalSelena can you follow me pretty pleas...   \n",
       "2393          good friday whatchu got for me @kanyewest   \n",
       "\n",
       "                                                 labels  \n",
       "0                               O O O O O O O O O O O O  \n",
       "1     O O O O O B-geo-loc O O O O O O O B-facility I...  \n",
       "2             O B-movie I-movie O O O B-geo-loc O O O O  \n",
       "3     O O O O O O O O O O O O O O O O O O O O O O O ...  \n",
       "4                                           O O O O O O  \n",
       "...                                                 ...  \n",
       "2389  O O O B-person O O O O O O O O O O O O O O O O...  \n",
       "2390              O O O O O O O O O O O O O O O O O O O  \n",
       "2391  O O O B-person I-person I-person O O O O O O O...  \n",
       "2392                    O O O O O O O O O O O O O O O O  \n",
       "2393                                      O O O O O O O  \n",
       "\n",
       "[2394 rows x 4 columns]"
      ]
     },
     "execution_count": 56,
     "metadata": {},
     "output_type": "execute_result"
    }
   ],
   "source": [
    "data_train"
   ]
  },
  {
   "cell_type": "code",
   "execution_count": 53,
   "metadata": {},
   "outputs": [],
   "source": [
    "# export data\n",
    "data_train.to_csv('../data/WNUT16/__init/strong/data_train.csv')\n",
    "data_test.to_csv('../data/WNUT16/__init/strong/data_test.csv')"
   ]
  }
 ],
 "metadata": {
  "kernelspec": {
   "display_name": "Python 3",
   "language": "python",
   "name": "python3"
  },
  "language_info": {
   "codemirror_mode": {
    "name": "ipython",
    "version": 3
   },
   "file_extension": ".py",
   "mimetype": "text/x-python",
   "name": "python",
   "nbconvert_exporter": "python",
   "pygments_lexer": "ipython3",
   "version": "3.8.13"
  }
 },
 "nbformat": 4,
 "nbformat_minor": 4
}
