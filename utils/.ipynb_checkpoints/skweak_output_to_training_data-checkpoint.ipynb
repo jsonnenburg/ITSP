{
 "cells": [
  {
   "cell_type": "markdown",
   "metadata": {},
   "source": [
    "### Takes skweak output file and transforms it to data_train format with columns sequence, sequence_tok, labels, labels_tok\n",
    "\n",
    "==> implemented in skweak_to_training_data.py"
   ]
  },
  {
   "cell_type": "code",
   "execution_count": 77,
   "metadata": {},
   "outputs": [],
   "source": [
    "from io import open\n",
    "import pandas as pd\n",
    "from nltk.tokenize import word_tokenize"
   ]
  },
  {
   "cell_type": "code",
   "execution_count": 128,
   "metadata": {},
   "outputs": [],
   "source": [
    "file_path = \"../data/COVIDNEWS/dist_skweak/skweak_output.csv\""
   ]
  },
  {
   "cell_type": "code",
   "execution_count": 129,
   "metadata": {},
   "outputs": [],
   "source": [
    "train = open(file_path, 'r').readlines()"
   ]
  },
  {
   "cell_type": "code",
   "execution_count": 143,
   "metadata": {},
   "outputs": [],
   "source": [
    "def transform_sequences(labeled_sequences):\n",
    "    sequences = []\n",
    "    labels = []\n",
    "    sequence_tok = []\n",
    "    labels_tok = []\n",
    "\n",
    "    for line in labeled_sequences:\n",
    "        if line == '\\n':\n",
    "            sequences.append(sequence_tok)\n",
    "            labels.append(labels_tok)\n",
    "            sequence_tok = []\n",
    "            labels_tok = []\n",
    "        else:\n",
    "            parts = line.strip().split('\\t')\n",
    "            if len(parts) == 2:\n",
    "                token, label = parts\n",
    "            else:\n",
    "                token = parts[0]\n",
    "                label = 'O'\n",
    "            sequence_tok.append(token)\n",
    "            labels_tok.append(label)\n",
    "\n",
    "    df = pd.DataFrame({'sequence_tok': sequence_tok, 'labels_tok': labels_tok})\n",
    "\n",
    "    return df"
   ]
  },
  {
   "cell_type": "code",
   "execution_count": 144,
   "metadata": {},
   "outputs": [],
   "source": [
    "data_train = transform_sequences(train)"
   ]
  },
  {
   "cell_type": "code",
   "execution_count": 124,
   "metadata": {},
   "outputs": [],
   "source": [
    "data_train['labels'] = data_train['labels_tok'].apply(lambda x: ' '.join(x))\n",
    "data_train['sequence'] = data_train['sequence_tok'].apply(lambda x: ' '.join(x))\n",
    "\n",
    "# reorder columns\n",
    "data_train = data_train[['sequence', 'sequence_tok', 'labels', 'labels_tok']]"
   ]
  },
  {
   "cell_type": "code",
   "execution_count": 138,
   "metadata": {},
   "outputs": [
    {
     "data": {
      "text/html": [
       "<div>\n",
       "<style scoped>\n",
       "    .dataframe tbody tr th:only-of-type {\n",
       "        vertical-align: middle;\n",
       "    }\n",
       "\n",
       "    .dataframe tbody tr th {\n",
       "        vertical-align: top;\n",
       "    }\n",
       "\n",
       "    .dataframe thead th {\n",
       "        text-align: right;\n",
       "    }\n",
       "</style>\n",
       "<table border=\"1\" class=\"dataframe\">\n",
       "  <thead>\n",
       "    <tr style=\"text-align: right;\">\n",
       "      <th></th>\n",
       "      <th>sequence_tok</th>\n",
       "      <th>labels_tok</th>\n",
       "    </tr>\n",
       "  </thead>\n",
       "  <tbody>\n",
       "    <tr>\n",
       "      <th>0</th>\n",
       "      <td>Jakarta</td>\n",
       "      <td>GPE</td>\n",
       "    </tr>\n",
       "    <tr>\n",
       "      <th>1</th>\n",
       "      <td>(</td>\n",
       "      <td>O</td>\n",
       "    </tr>\n",
       "    <tr>\n",
       "      <th>2</th>\n",
       "      <td>ANTARA</td>\n",
       "      <td>ORG</td>\n",
       "    </tr>\n",
       "    <tr>\n",
       "      <th>3</th>\n",
       "      <td>)</td>\n",
       "      <td>O</td>\n",
       "    </tr>\n",
       "    <tr>\n",
       "      <th>4</th>\n",
       "      <td>-</td>\n",
       "      <td>O</td>\n",
       "    </tr>\n",
       "    <tr>\n",
       "      <th>...</th>\n",
       "      <td>...</td>\n",
       "      <td>...</td>\n",
       "    </tr>\n",
       "    <tr>\n",
       "      <th>56949</th>\n",
       "      <td>.</td>\n",
       "      <td>O</td>\n",
       "    </tr>\n",
       "    <tr>\n",
       "      <th>56950</th>\n",
       "      <td>TOPEKA</td>\n",
       "      <td>GPE</td>\n",
       "    </tr>\n",
       "    <tr>\n",
       "      <th>56951</th>\n",
       "      <td>,</td>\n",
       "      <td>O</td>\n",
       "    </tr>\n",
       "    <tr>\n",
       "      <th>56952</th>\n",
       "      <td>Kan</td>\n",
       "      <td>PERSON</td>\n",
       "    </tr>\n",
       "    <tr>\n",
       "      <th>56953</th>\n",
       "      <td>.</td>\n",
       "      <td>O</td>\n",
       "    </tr>\n",
       "  </tbody>\n",
       "</table>\n",
       "<p>56954 rows × 2 columns</p>\n",
       "</div>"
      ],
      "text/plain": [
       "      sequence_tok labels_tok\n",
       "0          Jakarta        GPE\n",
       "1                (          O\n",
       "2           ANTARA        ORG\n",
       "3                )          O\n",
       "4                -          O\n",
       "...            ...        ...\n",
       "56949            .          O\n",
       "56950       TOPEKA        GPE\n",
       "56951            ,          O\n",
       "56952          Kan     PERSON\n",
       "56953            .          O\n",
       "\n",
       "[56954 rows x 2 columns]"
      ]
     },
     "execution_count": 138,
     "metadata": {},
     "output_type": "execute_result"
    }
   ],
   "source": [
    "data_train"
   ]
  },
  {
   "cell_type": "code",
   "execution_count": null,
   "metadata": {},
   "outputs": [],
   "source": []
  }
 ],
 "metadata": {
  "kernelspec": {
   "display_name": "Python 3",
   "language": "python",
   "name": "python3"
  },
  "language_info": {
   "codemirror_mode": {
    "name": "ipython",
    "version": 3
   },
   "file_extension": ".py",
   "mimetype": "text/x-python",
   "name": "python",
   "nbconvert_exporter": "python",
   "pygments_lexer": "ipython3",
   "version": "3.8.13"
  }
 },
 "nbformat": 4,
 "nbformat_minor": 4
}
