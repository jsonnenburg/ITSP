{
 "cells": [
  {
   "cell_type": "markdown",
   "metadata": {},
   "source": [
    "## SciERC to BIO schema"
   ]
  },
  {
   "cell_type": "code",
   "execution_count": 49,
   "metadata": {},
   "outputs": [],
   "source": [
    "import pandas as pd\n",
    "import itertools\n",
    "import os"
   ]
  },
  {
   "cell_type": "code",
   "execution_count": 50,
   "metadata": {},
   "outputs": [
    {
     "data": {
      "text/plain": [
       "'/Users/johann/Documents/Uni/ITSP/utils'"
      ]
     },
     "execution_count": 50,
     "metadata": {},
     "output_type": "execute_result"
    }
   ],
   "source": [
    "os.getcwd()"
   ]
  },
  {
   "cell_type": "code",
   "execution_count": 51,
   "metadata": {},
   "outputs": [],
   "source": [
    "# load the STRONG data\n",
    "data_train = pd.read_json(\"../data/raw/scierc/train.json\", lines=True)\n",
    "data_test = pd.read_json(\"../data/raw/scierc/test.json\", lines=True)\n",
    "dev = pd.read_json(\"../data/raw/scierc/dev.json\", lines=True)"
   ]
  },
  {
   "cell_type": "code",
   "execution_count": 52,
   "metadata": {},
   "outputs": [
    {
     "data": {
      "text/plain": [
       "((350, 5), (100, 5), (50, 5))"
      ]
     },
     "execution_count": 52,
     "metadata": {},
     "output_type": "execute_result"
    }
   ],
   "source": [
    "data_train.shape, data_test.shape, dev.shape"
   ]
  },
  {
   "cell_type": "markdown",
   "metadata": {},
   "source": [
    "#### Data Preparation\n",
    "\n",
    "* new column: 'abstract_full' with joined sentences\n",
    "* new column: 'ner_annotation_full' with joined annotations"
   ]
  },
  {
   "cell_type": "code",
   "execution_count": 53,
   "metadata": {},
   "outputs": [],
   "source": [
    "def features_full(data):\n",
    "    \n",
    "    data['abstract_full'] = data['sentences'].apply(lambda x: list(itertools.chain.from_iterable(x)))\n",
    "    data['ner_annotation_full'] = data['ner'].apply(lambda x: list(itertools.chain.from_iterable(x)))\n",
    "    \n",
    "    return data"
   ]
  },
  {
   "cell_type": "code",
   "execution_count": 54,
   "metadata": {},
   "outputs": [],
   "source": [
    "data_train = features_full(data_train)\n",
    "data_test = features_full(data_test)\n",
    "dev = features_full(dev)"
   ]
  },
  {
   "cell_type": "markdown",
   "metadata": {},
   "source": [
    "#### Pseudocode\n",
    "Initialize a new sequence for each entity type (e.g., Task, Method, Material) and set the initial state to \"O\" (outside entity).\n",
    "\n",
    "Iterate over each token in the text and check if it corresponds to the start or continuation of an entity.\n",
    "\n",
    "If a token corresponds to the start of an entity, mark it with the \"B-\" prefix, followed by the entity type. For example, \"B-Task\" for the start of a Task entity.\n",
    "\n",
    "For subsequent tokens within the same entity, mark them with the \"I-\" prefix, followed by the entity type. For example, \"I-Task\" for the continuation of a Task entity.\n",
    "\n",
    "Tokens that are not part of any entity should be labeled as \"O\" (outside entity)."
   ]
  },
  {
   "cell_type": "code",
   "execution_count": 55,
   "metadata": {},
   "outputs": [],
   "source": [
    "def transform_to_BIO(text, annotations):\n",
    "    bio_labels = [\"O\"] * len(text)\n",
    "    \n",
    "    for start, end, entity_type in annotations:\n",
    "        bio_labels[start] = \"B-\" + entity_type.lower()\n",
    "        for i in range(start+1, end):\n",
    "            bio_labels[i] = \"I-\" + entity_type.lower()\n",
    "    \n",
    "    return bio_labels"
   ]
  },
  {
   "cell_type": "code",
   "execution_count": 56,
   "metadata": {},
   "outputs": [],
   "source": [
    "def generateBIOlabels(data):\n",
    "    \n",
    "    data['ner_BIO_full'] = data.apply(lambda x: transform_to_BIO(x['abstract_full'], x['ner_annotation_full']), axis=1)\n",
    "    \n",
    "    return data"
   ]
  },
  {
   "cell_type": "code",
   "execution_count": 57,
   "metadata": {},
   "outputs": [],
   "source": [
    "data_train = generateBIOlabels(data_train)\n",
    "data_test = generateBIOlabels(data_test)\n",
    "dev = generateBIOlabels(dev)"
   ]
  },
  {
   "cell_type": "code",
   "execution_count": 58,
   "metadata": {},
   "outputs": [
    {
     "data": {
      "text/html": [
       "<div>\n",
       "<style scoped>\n",
       "    .dataframe tbody tr th:only-of-type {\n",
       "        vertical-align: middle;\n",
       "    }\n",
       "\n",
       "    .dataframe tbody tr th {\n",
       "        vertical-align: top;\n",
       "    }\n",
       "\n",
       "    .dataframe thead th {\n",
       "        text-align: right;\n",
       "    }\n",
       "</style>\n",
       "<table border=\"1\" class=\"dataframe\">\n",
       "  <thead>\n",
       "    <tr style=\"text-align: right;\">\n",
       "      <th></th>\n",
       "      <th>clusters</th>\n",
       "      <th>sentences</th>\n",
       "      <th>ner</th>\n",
       "      <th>relations</th>\n",
       "      <th>doc_key</th>\n",
       "      <th>abstract_full</th>\n",
       "      <th>ner_annotation_full</th>\n",
       "      <th>ner_BIO_full</th>\n",
       "    </tr>\n",
       "  </thead>\n",
       "  <tbody>\n",
       "    <tr>\n",
       "      <th>0</th>\n",
       "      <td>[[[17, 20], [23, 23]]]</td>\n",
       "      <td>[[English, is, shown, to, be, trans-context-fr...</td>\n",
       "      <td>[[[0, 0, Material], [10, 10, OtherScientificTe...</td>\n",
       "      <td>[[], [[29, 29, 31, 32, CONJUNCTION], [48, 49, ...</td>\n",
       "      <td>J87-1003</td>\n",
       "      <td>[English, is, shown, to, be, trans-context-fre...</td>\n",
       "      <td>[[0, 0, Material], [10, 10, OtherScientificTer...</td>\n",
       "      <td>[B-material, O, O, O, O, O, O, O, O, O, B-othe...</td>\n",
       "    </tr>\n",
       "    <tr>\n",
       "      <th>1</th>\n",
       "      <td>[[[62, 64], [90, 91], [96, 98], [112, 114]], [...</td>\n",
       "      <td>[[In, this, paper, ,, a, novel, method, to, le...</td>\n",
       "      <td>[[[6, 6, Method], [10, 12, OtherScientificTerm...</td>\n",
       "      <td>[[[6, 6, 10, 12, USED-FOR], [10, 12, 14, 16, U...</td>\n",
       "      <td>CVPR_2003_18_abs</td>\n",
       "      <td>[In, this, paper, ,, a, novel, method, to, lea...</td>\n",
       "      <td>[[6, 6, Method], [10, 12, OtherScientificTerm]...</td>\n",
       "      <td>[O, O, O, O, O, O, B-method, O, O, O, B-others...</td>\n",
       "    </tr>\n",
       "    <tr>\n",
       "      <th>2</th>\n",
       "      <td>[[[154, 154], [214, 214]], [[40, 44], [85, 85]...</td>\n",
       "      <td>[[In, this, paper, ,, we, present, a, digital,...</td>\n",
       "      <td>[[[7, 13, Method], [15, 21, Method], [23, 25, ...</td>\n",
       "      <td>[[[7, 13, 15, 21, USED-FOR], [15, 21, 23, 25, ...</td>\n",
       "      <td>INTERSPEECH_2013_31_abs</td>\n",
       "      <td>[In, this, paper, ,, we, present, a, digital, ...</td>\n",
       "      <td>[[7, 13, Method], [15, 21, Method], [23, 25, T...</td>\n",
       "      <td>[O, O, O, O, O, O, O, B-method, I-method, I-me...</td>\n",
       "    </tr>\n",
       "    <tr>\n",
       "      <th>3</th>\n",
       "      <td>[[[3, 3], [110, 110]]]</td>\n",
       "      <td>[[We, propose, a, method, that, automatically,...</td>\n",
       "      <td>[[[3, 3, Generic], [7, 7, OtherScientificTerm]...</td>\n",
       "      <td>[[[3, 3, 7, 7, USED-FOR], [7, 7, 20, 23, USED-...</td>\n",
       "      <td>I05-5008</td>\n",
       "      <td>[We, propose, a, method, that, automatically, ...</td>\n",
       "      <td>[[3, 3, Generic], [7, 7, OtherScientificTerm],...</td>\n",
       "      <td>[O, O, O, B-generic, O, O, O, B-otherscientifi...</td>\n",
       "    </tr>\n",
       "    <tr>\n",
       "      <th>4</th>\n",
       "      <td>[[[35, 35], [69, 69]]]</td>\n",
       "      <td>[[Graph, unification, remains, the, most, expe...</td>\n",
       "      <td>[[[0, 1, Task], [8, 10, Task]], [[16, 17, Meth...</td>\n",
       "      <td>[[[0, 1, 8, 10, PART-OF]], [[16, 17, 22, 23, P...</td>\n",
       "      <td>C92-2068</td>\n",
       "      <td>[Graph, unification, remains, the, most, expen...</td>\n",
       "      <td>[[0, 1, Task], [8, 10, Task], [16, 17, Method]...</td>\n",
       "      <td>[B-task, O, O, O, O, O, O, O, B-task, I-task, ...</td>\n",
       "    </tr>\n",
       "    <tr>\n",
       "      <th>...</th>\n",
       "      <td>...</td>\n",
       "      <td>...</td>\n",
       "      <td>...</td>\n",
       "      <td>...</td>\n",
       "      <td>...</td>\n",
       "      <td>...</td>\n",
       "      <td>...</td>\n",
       "      <td>...</td>\n",
       "    </tr>\n",
       "    <tr>\n",
       "      <th>345</th>\n",
       "      <td>[[[97, 99], [128, 129], [181, 182]], [[93, 93]...</td>\n",
       "      <td>[[Learning, video, representation, is, not, a,...</td>\n",
       "      <td>[[[0, 2, Task]], [], [], [[67, 67, OtherScient...</td>\n",
       "      <td>[[], [], [], [], [[70, 71, 78, 83, USED-FOR]],...</td>\n",
       "      <td>IJCAI_2016_423_abs</td>\n",
       "      <td>[Learning, video, representation, is, not, a, ...</td>\n",
       "      <td>[[0, 2, Task], [67, 67, OtherScientificTerm], ...</td>\n",
       "      <td>[B-task, I-task, O, O, O, O, O, O, O, O, O, O,...</td>\n",
       "    </tr>\n",
       "    <tr>\n",
       "      <th>346</th>\n",
       "      <td>[[[36, 38], [64, 68], [70, 70], [159, 159]], [...</td>\n",
       "      <td>[[For, mobile, speech, application, ,, speaker...</td>\n",
       "      <td>[[[1, 3, Task], [5, 8, Metric], [10, 11, Metri...</td>\n",
       "      <td>[[[5, 8, 1, 3, FEATURE-OF], [5, 8, 10, 11, CON...</td>\n",
       "      <td>ICASSP_2016_14_abs</td>\n",
       "      <td>[For, mobile, speech, application, ,, speaker,...</td>\n",
       "      <td>[[1, 3, Task], [5, 8, Metric], [10, 11, Metric...</td>\n",
       "      <td>[O, B-task, I-task, O, O, B-metric, I-metric, ...</td>\n",
       "    </tr>\n",
       "    <tr>\n",
       "      <th>347</th>\n",
       "      <td>[[[91, 91], [95, 98], [121, 121]], [[39, 41], ...</td>\n",
       "      <td>[[In, this, paper, ,, we, want, to, show, how,...</td>\n",
       "      <td>[[[10, 11, Method], [15, 25, Method], [39, 41,...</td>\n",
       "      <td>[[[10, 11, 15, 25, PART-OF], [39, 41, 44, 54, ...</td>\n",
       "      <td>A97-1027</td>\n",
       "      <td>[In, this, paper, ,, we, want, to, show, how, ...</td>\n",
       "      <td>[[10, 11, Method], [15, 25, Method], [39, 41, ...</td>\n",
       "      <td>[O, O, O, O, O, O, O, O, O, O, B-method, O, O,...</td>\n",
       "    </tr>\n",
       "    <tr>\n",
       "      <th>348</th>\n",
       "      <td>[[[29, 29], [46, 46], [97, 97]], [[48, 48], [6...</td>\n",
       "      <td>[[CriterionSM, Online, Essay, Evaluation, Serv...</td>\n",
       "      <td>[[[0, 4, Task], [15, 17, OtherScientificTerm],...</td>\n",
       "      <td>[[[15, 17, 0, 4, PART-OF], [21, 22, 15, 17, HY...</td>\n",
       "      <td>N04-1024</td>\n",
       "      <td>[CriterionSM, Online, Essay, Evaluation, Servi...</td>\n",
       "      <td>[[0, 4, Task], [15, 17, OtherScientificTerm], ...</td>\n",
       "      <td>[B-task, I-task, I-task, I-task, O, O, O, O, O...</td>\n",
       "    </tr>\n",
       "    <tr>\n",
       "      <th>349</th>\n",
       "      <td>[]</td>\n",
       "      <td>[[This, paper, presents, an, algorithm, for, l...</td>\n",
       "      <td>[[[4, 4, Generic], [6, 8, Task], [13, 14, Mate...</td>\n",
       "      <td>[[[4, 4, 6, 8, USED-FOR], [13, 14, 6, 8, FEATU...</td>\n",
       "      <td>CVPR_1992_10_abs</td>\n",
       "      <td>[This, paper, presents, an, algorithm, for, la...</td>\n",
       "      <td>[[4, 4, Generic], [6, 8, Task], [13, 14, Mater...</td>\n",
       "      <td>[O, O, O, O, B-generic, O, B-task, I-task, O, ...</td>\n",
       "    </tr>\n",
       "  </tbody>\n",
       "</table>\n",
       "<p>350 rows × 8 columns</p>\n",
       "</div>"
      ],
      "text/plain": [
       "                                              clusters  \\\n",
       "0                               [[[17, 20], [23, 23]]]   \n",
       "1    [[[62, 64], [90, 91], [96, 98], [112, 114]], [...   \n",
       "2    [[[154, 154], [214, 214]], [[40, 44], [85, 85]...   \n",
       "3                               [[[3, 3], [110, 110]]]   \n",
       "4                               [[[35, 35], [69, 69]]]   \n",
       "..                                                 ...   \n",
       "345  [[[97, 99], [128, 129], [181, 182]], [[93, 93]...   \n",
       "346  [[[36, 38], [64, 68], [70, 70], [159, 159]], [...   \n",
       "347  [[[91, 91], [95, 98], [121, 121]], [[39, 41], ...   \n",
       "348  [[[29, 29], [46, 46], [97, 97]], [[48, 48], [6...   \n",
       "349                                                 []   \n",
       "\n",
       "                                             sentences  \\\n",
       "0    [[English, is, shown, to, be, trans-context-fr...   \n",
       "1    [[In, this, paper, ,, a, novel, method, to, le...   \n",
       "2    [[In, this, paper, ,, we, present, a, digital,...   \n",
       "3    [[We, propose, a, method, that, automatically,...   \n",
       "4    [[Graph, unification, remains, the, most, expe...   \n",
       "..                                                 ...   \n",
       "345  [[Learning, video, representation, is, not, a,...   \n",
       "346  [[For, mobile, speech, application, ,, speaker...   \n",
       "347  [[In, this, paper, ,, we, want, to, show, how,...   \n",
       "348  [[CriterionSM, Online, Essay, Evaluation, Serv...   \n",
       "349  [[This, paper, presents, an, algorithm, for, l...   \n",
       "\n",
       "                                                   ner  \\\n",
       "0    [[[0, 0, Material], [10, 10, OtherScientificTe...   \n",
       "1    [[[6, 6, Method], [10, 12, OtherScientificTerm...   \n",
       "2    [[[7, 13, Method], [15, 21, Method], [23, 25, ...   \n",
       "3    [[[3, 3, Generic], [7, 7, OtherScientificTerm]...   \n",
       "4    [[[0, 1, Task], [8, 10, Task]], [[16, 17, Meth...   \n",
       "..                                                 ...   \n",
       "345  [[[0, 2, Task]], [], [], [[67, 67, OtherScient...   \n",
       "346  [[[1, 3, Task], [5, 8, Metric], [10, 11, Metri...   \n",
       "347  [[[10, 11, Method], [15, 25, Method], [39, 41,...   \n",
       "348  [[[0, 4, Task], [15, 17, OtherScientificTerm],...   \n",
       "349  [[[4, 4, Generic], [6, 8, Task], [13, 14, Mate...   \n",
       "\n",
       "                                             relations  \\\n",
       "0    [[], [[29, 29, 31, 32, CONJUNCTION], [48, 49, ...   \n",
       "1    [[[6, 6, 10, 12, USED-FOR], [10, 12, 14, 16, U...   \n",
       "2    [[[7, 13, 15, 21, USED-FOR], [15, 21, 23, 25, ...   \n",
       "3    [[[3, 3, 7, 7, USED-FOR], [7, 7, 20, 23, USED-...   \n",
       "4    [[[0, 1, 8, 10, PART-OF]], [[16, 17, 22, 23, P...   \n",
       "..                                                 ...   \n",
       "345  [[], [], [], [], [[70, 71, 78, 83, USED-FOR]],...   \n",
       "346  [[[5, 8, 1, 3, FEATURE-OF], [5, 8, 10, 11, CON...   \n",
       "347  [[[10, 11, 15, 25, PART-OF], [39, 41, 44, 54, ...   \n",
       "348  [[[15, 17, 0, 4, PART-OF], [21, 22, 15, 17, HY...   \n",
       "349  [[[4, 4, 6, 8, USED-FOR], [13, 14, 6, 8, FEATU...   \n",
       "\n",
       "                     doc_key  \\\n",
       "0                   J87-1003   \n",
       "1           CVPR_2003_18_abs   \n",
       "2    INTERSPEECH_2013_31_abs   \n",
       "3                   I05-5008   \n",
       "4                   C92-2068   \n",
       "..                       ...   \n",
       "345       IJCAI_2016_423_abs   \n",
       "346       ICASSP_2016_14_abs   \n",
       "347                 A97-1027   \n",
       "348                 N04-1024   \n",
       "349         CVPR_1992_10_abs   \n",
       "\n",
       "                                         abstract_full  \\\n",
       "0    [English, is, shown, to, be, trans-context-fre...   \n",
       "1    [In, this, paper, ,, a, novel, method, to, lea...   \n",
       "2    [In, this, paper, ,, we, present, a, digital, ...   \n",
       "3    [We, propose, a, method, that, automatically, ...   \n",
       "4    [Graph, unification, remains, the, most, expen...   \n",
       "..                                                 ...   \n",
       "345  [Learning, video, representation, is, not, a, ...   \n",
       "346  [For, mobile, speech, application, ,, speaker,...   \n",
       "347  [In, this, paper, ,, we, want, to, show, how, ...   \n",
       "348  [CriterionSM, Online, Essay, Evaluation, Servi...   \n",
       "349  [This, paper, presents, an, algorithm, for, la...   \n",
       "\n",
       "                                   ner_annotation_full  \\\n",
       "0    [[0, 0, Material], [10, 10, OtherScientificTer...   \n",
       "1    [[6, 6, Method], [10, 12, OtherScientificTerm]...   \n",
       "2    [[7, 13, Method], [15, 21, Method], [23, 25, T...   \n",
       "3    [[3, 3, Generic], [7, 7, OtherScientificTerm],...   \n",
       "4    [[0, 1, Task], [8, 10, Task], [16, 17, Method]...   \n",
       "..                                                 ...   \n",
       "345  [[0, 2, Task], [67, 67, OtherScientificTerm], ...   \n",
       "346  [[1, 3, Task], [5, 8, Metric], [10, 11, Metric...   \n",
       "347  [[10, 11, Method], [15, 25, Method], [39, 41, ...   \n",
       "348  [[0, 4, Task], [15, 17, OtherScientificTerm], ...   \n",
       "349  [[4, 4, Generic], [6, 8, Task], [13, 14, Mater...   \n",
       "\n",
       "                                          ner_BIO_full  \n",
       "0    [B-material, O, O, O, O, O, O, O, O, O, B-othe...  \n",
       "1    [O, O, O, O, O, O, B-method, O, O, O, B-others...  \n",
       "2    [O, O, O, O, O, O, O, B-method, I-method, I-me...  \n",
       "3    [O, O, O, B-generic, O, O, O, B-otherscientifi...  \n",
       "4    [B-task, O, O, O, O, O, O, O, B-task, I-task, ...  \n",
       "..                                                 ...  \n",
       "345  [B-task, I-task, O, O, O, O, O, O, O, O, O, O,...  \n",
       "346  [O, B-task, I-task, O, O, B-metric, I-metric, ...  \n",
       "347  [O, O, O, O, O, O, O, O, O, O, B-method, O, O,...  \n",
       "348  [B-task, I-task, I-task, I-task, O, O, O, O, O...  \n",
       "349  [O, O, O, O, B-generic, O, B-task, I-task, O, ...  \n",
       "\n",
       "[350 rows x 8 columns]"
      ]
     },
     "execution_count": 58,
     "metadata": {},
     "output_type": "execute_result"
    }
   ],
   "source": [
    "data_train"
   ]
  },
  {
   "cell_type": "code",
   "execution_count": 59,
   "metadata": {},
   "outputs": [],
   "source": [
    "def join_tokens(data):\n",
    "    \n",
    "    data['abstract_full_text'] = data['abstract_full'].apply(lambda x: ' '.join(x))\n",
    "    data['ner_BIO_full_text'] = data['ner_BIO_full'].apply(lambda x: ' '.join(x))\n",
    "    \n",
    "    return data"
   ]
  },
  {
   "cell_type": "code",
   "execution_count": 60,
   "metadata": {},
   "outputs": [],
   "source": [
    "data_train = join_tokens(data_train)\n",
    "data_test = join_tokens(data_test)\n",
    "dev = join_tokens(dev)"
   ]
  },
  {
   "cell_type": "code",
   "execution_count": 61,
   "metadata": {},
   "outputs": [
    {
     "data": {
      "text/plain": [
       "Index(['clusters', 'sentences', 'ner', 'relations', 'doc_key', 'abstract_full',\n",
       "       'ner_annotation_full', 'ner_BIO_full', 'abstract_full_text',\n",
       "       'ner_BIO_full_text'],\n",
       "      dtype='object')"
      ]
     },
     "execution_count": 61,
     "metadata": {},
     "output_type": "execute_result"
    }
   ],
   "source": [
    "data_train.columns"
   ]
  },
  {
   "cell_type": "code",
   "execution_count": 62,
   "metadata": {},
   "outputs": [
    {
     "name": "stderr",
     "output_type": "stream",
     "text": [
      "<ipython-input-62-ce23014dd3f8>:2: SettingWithCopyWarning: \n",
      "A value is trying to be set on a copy of a slice from a DataFrame\n",
      "\n",
      "See the caveats in the documentation: https://pandas.pydata.org/pandas-docs/stable/user_guide/indexing.html#returning-a-view-versus-a-copy\n",
      "  data_train.rename({'abstract_full_text' : 'sequence',\n"
     ]
    }
   ],
   "source": [
    "data_train = data_train[['abstract_full_text', 'abstract_full', 'ner_BIO_full_text', 'ner_BIO_full']]\n",
    "data_train.rename({'abstract_full_text' : 'sequence',\n",
    "                   'abstract_full' : 'sequence_tok',\n",
    "                  'ner_BIO_full_text' : 'labels',\n",
    "                  'ner_BIO_full' : 'labels_tok'},\n",
    "                  axis=1, inplace=True)"
   ]
  },
  {
   "cell_type": "code",
   "execution_count": 64,
   "metadata": {},
   "outputs": [],
   "source": [
    "data_test = data_test[['abstract_full_text', 'abstract_full', 'ner_BIO_full_text', 'ner_BIO_full']]\n",
    "data_test.rename({'abstract_full_text' : 'sequence',\n",
    "                   'abstract_full' : 'sequence_tok',\n",
    "                  'ner_BIO_full_text' : 'labels',\n",
    "                  'ner_BIO_full' : 'labels_tok'},\n",
    "                  axis=1, inplace=True)"
   ]
  },
  {
   "cell_type": "code",
   "execution_count": 65,
   "metadata": {},
   "outputs": [],
   "source": [
    "# export data\n",
    "data_train.to_csv('../data/SciERC/__init/strong/data_train.csv')\n",
    "data_test.to_csv('../data/SciERC/__init/strong/data_test.csv')\n",
    "dev.to_csv('../data/SciERC/__init/strong/dev.csv')"
   ]
  }
 ],
 "metadata": {
  "kernelspec": {
   "display_name": "Python 3",
   "language": "python",
   "name": "python3"
  },
  "language_info": {
   "codemirror_mode": {
    "name": "ipython",
    "version": 3
   },
   "file_extension": ".py",
   "mimetype": "text/x-python",
   "name": "python",
   "nbconvert_exporter": "python",
   "pygments_lexer": "ipython3",
   "version": "3.8.13"
  }
 },
 "nbformat": 4,
 "nbformat_minor": 4
}
