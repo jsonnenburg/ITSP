{
 "cells": [
  {
   "cell_type": "markdown",
   "metadata": {},
   "source": [
    "### Transform perturbed datasets into RoSTER-required format"
   ]
  },
  {
   "cell_type": "code",
   "execution_count": 33,
   "metadata": {},
   "outputs": [],
   "source": [
    "import pandas as pd\n",
    "import os\n",
    "import ast"
   ]
  },
  {
   "cell_type": "code",
   "execution_count": 4,
   "metadata": {},
   "outputs": [],
   "source": [
    "df = pd.read_csv(\"../data/COVIDNEWS/data_train_perturbed.csv\", index_col=0)"
   ]
  },
  {
   "cell_type": "code",
   "execution_count": 8,
   "metadata": {},
   "outputs": [
    {
     "data": {
      "text/html": [
       "<div>\n",
       "<style scoped>\n",
       "    .dataframe tbody tr th:only-of-type {\n",
       "        vertical-align: middle;\n",
       "    }\n",
       "\n",
       "    .dataframe tbody tr th {\n",
       "        vertical-align: top;\n",
       "    }\n",
       "\n",
       "    .dataframe thead th {\n",
       "        text-align: right;\n",
       "    }\n",
       "</style>\n",
       "<table border=\"1\" class=\"dataframe\">\n",
       "  <thead>\n",
       "    <tr style=\"text-align: right;\">\n",
       "      <th></th>\n",
       "      <th>sequences</th>\n",
       "      <th>labels</th>\n",
       "      <th>sequence_tok</th>\n",
       "      <th>ner_BIO_full</th>\n",
       "      <th>ner_BIO_full_strat0.05</th>\n",
       "      <th>ner_BIO_full_strat0.1</th>\n",
       "      <th>ner_BIO_full_strat0.15</th>\n",
       "      <th>ner_BIO_full_strat0.2</th>\n",
       "      <th>ner_BIO_full_strat0.25</th>\n",
       "    </tr>\n",
       "  </thead>\n",
       "  <tbody>\n",
       "    <tr>\n",
       "      <th>0</th>\n",
       "      <td>Jakarta ( ANTARA ) - as many as 419 confirmed ...</td>\n",
       "      <td>B-location O B-organization O O O O O B-person...</td>\n",
       "      <td>['Jakarta', '(', 'ANTARA', ')', '-', 'as', 'ma...</td>\n",
       "      <td>['B-location', 'O', 'B-organization', 'O', 'O'...</td>\n",
       "      <td>['B-location', 'O', 'B-organization', 'O', 'O'...</td>\n",
       "      <td>['B-location', 'O', 'B-organization', 'O', 'O'...</td>\n",
       "      <td>['B-location', 'O', 'B-organization', 'O', 'O'...</td>\n",
       "      <td>['B-location', 'O', 'B-organization', 'O', 'O'...</td>\n",
       "      <td>['B-location', 'O', 'B-organization', 'O', 'O'...</td>\n",
       "    </tr>\n",
       "    <tr>\n",
       "      <th>1</th>\n",
       "      <td>Australian Associated Press Qld lashes NSW gov...</td>\n",
       "      <td>B-organization I-organization I-organization O...</td>\n",
       "      <td>['Australian', 'Associated', 'Press', 'Qld', '...</td>\n",
       "      <td>['B-organization', 'I-organization', 'I-organi...</td>\n",
       "      <td>['B-organization', 'I-organization', 'I-organi...</td>\n",
       "      <td>['B-organization', 'I-organization', 'I-organi...</td>\n",
       "      <td>['B-organization', 'I-organization', 'O', 'O',...</td>\n",
       "      <td>['B-organization', 'I-person', 'I-organization...</td>\n",
       "      <td>['B-organization', 'I-organization', 'O', 'O',...</td>\n",
       "    </tr>\n",
       "    <tr>\n",
       "      <th>2</th>\n",
       "      <td>The city also closed its sights and asked all ...</td>\n",
       "      <td>O O O O O O O O O B-person O O O O O O O O O O...</td>\n",
       "      <td>['The', 'city', 'also', 'closed', 'its', 'sigh...</td>\n",
       "      <td>['O', 'O', 'O', 'O', 'O', 'O', 'O', 'O', 'O', ...</td>\n",
       "      <td>['O', 'O', 'O', 'O', 'O', 'O', 'O', 'O', 'O', ...</td>\n",
       "      <td>['O', 'O', 'O', 'O', 'O', 'O', 'O', 'O', 'O', ...</td>\n",
       "      <td>['O', 'O', 'O', 'O', 'O', 'O', 'O', 'O', 'O', ...</td>\n",
       "      <td>['O', 'O', 'O', 'O', 'O', 'O', 'O', 'O', 'O', ...</td>\n",
       "      <td>['O', 'O', 'O', 'O', 'O', 'O', 'O', 'O', 'O', ...</td>\n",
       "    </tr>\n",
       "    <tr>\n",
       "      <th>3</th>\n",
       "      <td>We suspect that the sudden rise in cases could...</td>\n",
       "      <td>O O O O O O O O O O O O O O O O O O O O O O B-...</td>\n",
       "      <td>['We', 'suspect', 'that', 'the', 'sudden', 'ri...</td>\n",
       "      <td>['O', 'O', 'O', 'O', 'O', 'O', 'O', 'O', 'O', ...</td>\n",
       "      <td>['O', 'O', 'O', 'O', 'O', 'O', 'O', 'O', 'O', ...</td>\n",
       "      <td>['O', 'O', 'O', 'O', 'O', 'O', 'O', 'O', 'O', ...</td>\n",
       "      <td>['O', 'O', 'O', 'O', 'O', 'O', 'O', 'O', 'O', ...</td>\n",
       "      <td>['O', 'O', 'O', 'O', 'O', 'O', 'O', 'O', 'O', ...</td>\n",
       "      <td>['O', 'O', 'O', 'O', 'O', 'O', 'O', 'O', 'O', ...</td>\n",
       "    </tr>\n",
       "    <tr>\n",
       "      <th>4</th>\n",
       "      <td>Noel Lyn Smith covers the Navajo Nation for Th...</td>\n",
       "      <td>B-person I-person I-person O O B-organization ...</td>\n",
       "      <td>['Noel', 'Lyn', 'Smith', 'covers', 'the', 'Nav...</td>\n",
       "      <td>['B-person', 'I-person', 'I-person', 'O', 'O',...</td>\n",
       "      <td>['B-person', 'I-person', 'I-person', 'O', 'O',...</td>\n",
       "      <td>['B-person', 'I-person', 'I-person', 'O', 'O',...</td>\n",
       "      <td>['B-person', 'I-person', 'I-person', 'O', 'O',...</td>\n",
       "      <td>['B-person', 'I-person', 'I-person', 'O', 'O',...</td>\n",
       "      <td>['B-person', 'I-person', 'I-person', 'O', 'O',...</td>\n",
       "    </tr>\n",
       "  </tbody>\n",
       "</table>\n",
       "</div>"
      ],
      "text/plain": [
       "                                           sequences  \\\n",
       "0  Jakarta ( ANTARA ) - as many as 419 confirmed ...   \n",
       "1  Australian Associated Press Qld lashes NSW gov...   \n",
       "2  The city also closed its sights and asked all ...   \n",
       "3  We suspect that the sudden rise in cases could...   \n",
       "4  Noel Lyn Smith covers the Navajo Nation for Th...   \n",
       "\n",
       "                                              labels  \\\n",
       "0  B-location O B-organization O O O O O B-person...   \n",
       "1  B-organization I-organization I-organization O...   \n",
       "2  O O O O O O O O O B-person O O O O O O O O O O...   \n",
       "3  O O O O O O O O O O O O O O O O O O O O O O B-...   \n",
       "4  B-person I-person I-person O O B-organization ...   \n",
       "\n",
       "                                        sequence_tok  \\\n",
       "0  ['Jakarta', '(', 'ANTARA', ')', '-', 'as', 'ma...   \n",
       "1  ['Australian', 'Associated', 'Press', 'Qld', '...   \n",
       "2  ['The', 'city', 'also', 'closed', 'its', 'sigh...   \n",
       "3  ['We', 'suspect', 'that', 'the', 'sudden', 'ri...   \n",
       "4  ['Noel', 'Lyn', 'Smith', 'covers', 'the', 'Nav...   \n",
       "\n",
       "                                        ner_BIO_full  \\\n",
       "0  ['B-location', 'O', 'B-organization', 'O', 'O'...   \n",
       "1  ['B-organization', 'I-organization', 'I-organi...   \n",
       "2  ['O', 'O', 'O', 'O', 'O', 'O', 'O', 'O', 'O', ...   \n",
       "3  ['O', 'O', 'O', 'O', 'O', 'O', 'O', 'O', 'O', ...   \n",
       "4  ['B-person', 'I-person', 'I-person', 'O', 'O',...   \n",
       "\n",
       "                              ner_BIO_full_strat0.05  \\\n",
       "0  ['B-location', 'O', 'B-organization', 'O', 'O'...   \n",
       "1  ['B-organization', 'I-organization', 'I-organi...   \n",
       "2  ['O', 'O', 'O', 'O', 'O', 'O', 'O', 'O', 'O', ...   \n",
       "3  ['O', 'O', 'O', 'O', 'O', 'O', 'O', 'O', 'O', ...   \n",
       "4  ['B-person', 'I-person', 'I-person', 'O', 'O',...   \n",
       "\n",
       "                               ner_BIO_full_strat0.1  \\\n",
       "0  ['B-location', 'O', 'B-organization', 'O', 'O'...   \n",
       "1  ['B-organization', 'I-organization', 'I-organi...   \n",
       "2  ['O', 'O', 'O', 'O', 'O', 'O', 'O', 'O', 'O', ...   \n",
       "3  ['O', 'O', 'O', 'O', 'O', 'O', 'O', 'O', 'O', ...   \n",
       "4  ['B-person', 'I-person', 'I-person', 'O', 'O',...   \n",
       "\n",
       "                              ner_BIO_full_strat0.15  \\\n",
       "0  ['B-location', 'O', 'B-organization', 'O', 'O'...   \n",
       "1  ['B-organization', 'I-organization', 'O', 'O',...   \n",
       "2  ['O', 'O', 'O', 'O', 'O', 'O', 'O', 'O', 'O', ...   \n",
       "3  ['O', 'O', 'O', 'O', 'O', 'O', 'O', 'O', 'O', ...   \n",
       "4  ['B-person', 'I-person', 'I-person', 'O', 'O',...   \n",
       "\n",
       "                               ner_BIO_full_strat0.2  \\\n",
       "0  ['B-location', 'O', 'B-organization', 'O', 'O'...   \n",
       "1  ['B-organization', 'I-person', 'I-organization...   \n",
       "2  ['O', 'O', 'O', 'O', 'O', 'O', 'O', 'O', 'O', ...   \n",
       "3  ['O', 'O', 'O', 'O', 'O', 'O', 'O', 'O', 'O', ...   \n",
       "4  ['B-person', 'I-person', 'I-person', 'O', 'O',...   \n",
       "\n",
       "                              ner_BIO_full_strat0.25  \n",
       "0  ['B-location', 'O', 'B-organization', 'O', 'O'...  \n",
       "1  ['B-organization', 'I-organization', 'O', 'O',...  \n",
       "2  ['O', 'O', 'O', 'O', 'O', 'O', 'O', 'O', 'O', ...  \n",
       "3  ['O', 'O', 'O', 'O', 'O', 'O', 'O', 'O', 'O', ...  \n",
       "4  ['B-person', 'I-person', 'I-person', 'O', 'O',...  "
      ]
     },
     "execution_count": 8,
     "metadata": {},
     "output_type": "execute_result"
    }
   ],
   "source": [
    "df.head()"
   ]
  },
  {
   "cell_type": "code",
   "execution_count": null,
   "metadata": {},
   "outputs": [],
   "source": [
    "# need train_label_dist_{name}.txt for each of columns following column 4\n",
    "# --> save file to \"data/$DATASET/data_RoSTER/train/\""
   ]
  },
  {
   "cell_type": "code",
   "execution_count": null,
   "metadata": {},
   "outputs": [],
   "source": [
    "output_dir = os.path.join('../data', args.dataset_dir)\n",
    "os.makedirs(output_dir, exist_ok=True)"
   ]
  },
  {
   "cell_type": "code",
   "execution_count": 15,
   "metadata": {},
   "outputs": [
    {
     "data": {
      "text/plain": [
       "'../data/COVIDNEWS/data_RoSTER/train'"
      ]
     },
     "execution_count": 15,
     "metadata": {},
     "output_type": "execute_result"
    }
   ],
   "source": [
    "os.path.join('../data', 'COVIDNEWS', 'data_RoSTER/train')"
   ]
  },
  {
   "cell_type": "code",
   "execution_count": 34,
   "metadata": {},
   "outputs": [],
   "source": [
    "def join_strings(row):\n",
    "    return ' '.join(ast.literal_eval(row))"
   ]
  },
  {
   "cell_type": "code",
   "execution_count": 35,
   "metadata": {},
   "outputs": [
    {
     "data": {
      "text/plain": [
       "0       B-location O B-organization O O O O O B-person...\n",
       "1       B-organization I-organization I-organization O...\n",
       "2        O O O O O O O O O B-person O O O O O O O O O O O\n",
       "3       O O O O O O O O O O O O O O O O O O O O O O B-...\n",
       "4       B-person I-person I-person O O B-organization ...\n",
       "                              ...                        \n",
       "2095    B-time I-time B-virus I-virus O O O O O O O O ...\n",
       "2096    O O O O O O O O O O O O B-location I-location ...\n",
       "2097    O O O B-organization I-organization I-organiza...\n",
       "2098    B-location I-location I-location O B-organizat...\n",
       "2099    B-product O O O O O B-person I-person I-person...\n",
       "Name: ner_BIO_full, Length: 2100, dtype: object"
      ]
     },
     "execution_count": 35,
     "metadata": {},
     "output_type": "execute_result"
    }
   ],
   "source": [
    "df[\"ner_BIO_full\"].apply(join_strings)"
   ]
  },
  {
   "cell_type": "code",
   "execution_count": 23,
   "metadata": {},
   "outputs": [
    {
     "name": "stdout",
     "output_type": "stream",
     "text": [
      "0       ['B-location', 'O', 'B-organization', 'O', 'O'...\n",
      "1       ['B-organization', 'I-organization', 'I-organi...\n",
      "2       ['O', 'O', 'O', 'O', 'O', 'O', 'O', 'O', 'O', ...\n",
      "3       ['O', 'O', 'O', 'O', 'O', 'O', 'O', 'O', 'O', ...\n",
      "4       ['B-person', 'I-person', 'I-person', 'O', 'O',...\n",
      "                              ...                        \n",
      "2095    ['B-time', 'I-time', 'B-virus', 'I-virus', 'O'...\n",
      "2096    ['O', 'O', 'O', 'O', 'O', 'O', 'O', 'O', 'O', ...\n",
      "2097    ['O', 'O', 'O', 'B-organization', 'I-organizat...\n",
      "2098    ['O', 'I-location', 'I-location', 'O', 'B-orga...\n",
      "2099    ['B-product', 'O', 'O', 'O', 'O', 'O', 'O', 'I...\n",
      "Name: ner_BIO_full_strat0.05, Length: 2100, dtype: object\n",
      "0       ['B-location', 'O', 'B-organization', 'O', 'O'...\n",
      "1       ['B-organization', 'I-organization', 'I-organi...\n",
      "2       ['O', 'O', 'O', 'O', 'O', 'O', 'O', 'O', 'O', ...\n",
      "3       ['O', 'O', 'O', 'O', 'O', 'O', 'O', 'O', 'O', ...\n",
      "4       ['B-person', 'I-person', 'I-person', 'O', 'O',...\n",
      "                              ...                        \n",
      "2095    ['B-time', 'I-time', 'B-virus', 'I-virus', 'O'...\n",
      "2096    ['O', 'O', 'O', 'O', 'O', 'O', 'O', 'O', 'O', ...\n",
      "2097    ['O', 'I-person', 'O', 'B-organization', 'I-or...\n",
      "2098    ['B-location', 'I-location', 'I-location', 'O'...\n",
      "2099    ['B-product', 'O', 'O', 'O', 'O', 'O', 'B-pers...\n",
      "Name: ner_BIO_full_strat0.1, Length: 2100, dtype: object\n",
      "0       ['B-location', 'O', 'B-organization', 'O', 'O'...\n",
      "1       ['B-organization', 'I-organization', 'O', 'O',...\n",
      "2       ['O', 'O', 'O', 'O', 'O', 'O', 'O', 'O', 'O', ...\n",
      "3       ['O', 'O', 'O', 'O', 'O', 'O', 'O', 'O', 'O', ...\n",
      "4       ['B-person', 'I-person', 'I-person', 'O', 'O',...\n",
      "                              ...                        \n",
      "2095    ['B-time', 'I-time', 'B-virus', 'O', 'O', 'O',...\n",
      "2096    ['O', 'O', 'O', 'O', 'O', 'O', 'O', 'O', 'O', ...\n",
      "2097    ['O', 'O', 'O', 'B-organization', 'I-organizat...\n",
      "2098    ['B-location', 'I-location', 'I-location', 'O'...\n",
      "2099    ['B-product', 'O', 'O', 'B-person', 'O', 'O', ...\n",
      "Name: ner_BIO_full_strat0.15, Length: 2100, dtype: object\n",
      "0       ['B-location', 'O', 'B-organization', 'O', 'O'...\n",
      "1       ['B-organization', 'I-person', 'I-organization...\n",
      "2       ['O', 'O', 'O', 'O', 'O', 'O', 'O', 'O', 'O', ...\n",
      "3       ['O', 'O', 'O', 'O', 'O', 'O', 'O', 'O', 'O', ...\n",
      "4       ['B-person', 'I-person', 'I-person', 'O', 'O',...\n",
      "                              ...                        \n",
      "2095    ['O', 'I-time', 'B-virus', 'I-virus', 'O', 'O'...\n",
      "2096    ['O', 'O', 'O', 'O', 'O', 'O', 'O', 'O', 'O', ...\n",
      "2097    ['O', 'O', 'O', 'O', 'O', 'I-organization', 'O...\n",
      "2098    ['B-location', 'I-location', 'I-location', 'O'...\n",
      "2099    ['O', 'O', 'O', 'O', 'O', 'O', 'B-person', 'I-...\n",
      "Name: ner_BIO_full_strat0.2, Length: 2100, dtype: object\n",
      "0       ['B-location', 'O', 'B-organization', 'O', 'O'...\n",
      "1       ['B-organization', 'I-organization', 'O', 'O',...\n",
      "2       ['O', 'O', 'O', 'O', 'O', 'O', 'O', 'O', 'O', ...\n",
      "3       ['O', 'O', 'O', 'O', 'O', 'O', 'O', 'O', 'O', ...\n",
      "4       ['B-person', 'I-person', 'I-person', 'O', 'O',...\n",
      "                              ...                        \n",
      "2095    ['B-time', 'I-time', 'B-virus', 'I-virus', 'O'...\n",
      "2096    ['O', 'O', 'O', 'O', 'O', 'O', 'O', 'O', 'O', ...\n",
      "2097    ['O', 'O', 'O', 'O', 'I-organization', 'I-orga...\n",
      "2098    ['B-location', 'I-location', 'I-location', 'O'...\n",
      "2099    ['O', 'O', 'I-person', 'O', 'O', 'O', 'B-perso...\n",
      "Name: ner_BIO_full_strat0.25, Length: 2100, dtype: object\n"
     ]
    }
   ],
   "source": [
    "relev_cols = df.columns[4:]\n",
    "for column in relev_cols:\n",
    "    df[column]."
   ]
  },
  {
   "cell_type": "code",
   "execution_count": null,
   "metadata": {},
   "outputs": [],
   "source": []
  }
 ],
 "metadata": {
  "kernelspec": {
   "display_name": "Python 3",
   "language": "python",
   "name": "python3"
  },
  "language_info": {
   "codemirror_mode": {
    "name": "ipython",
    "version": 3
   },
   "file_extension": ".py",
   "mimetype": "text/x-python",
   "name": "python",
   "nbconvert_exporter": "python",
   "pygments_lexer": "ipython3",
   "version": "3.8.13"
  }
 },
 "nbformat": 4,
 "nbformat_minor": 4
}
